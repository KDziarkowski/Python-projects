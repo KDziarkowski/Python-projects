{
  "nbformat": 4,
  "nbformat_minor": 0,
  "metadata": {
    "colab": {
      "provenance": [],
      "collapsed_sections": [
        "aOfXVWq-Tb_P",
        "_WJxeSu3UDMU",
        "defQcO1cUzPw",
        "pkpezYwcXM9I",
        "yGjxtwrMbGJr",
        "cPvNhv28dt9b"
      ]
    },
    "kernelspec": {
      "name": "python3",
      "display_name": "Python 3"
    },
    "language_info": {
      "name": "python"
    }
  },
  "cells": [
    {
      "cell_type": "markdown",
      "source": [
        "#**Zestaw danych - Mosty w Petersburgu (Pittsburgh Bridges)**\n",
        "Zawiera 108 mostów zbudowanych w Petersburgu od 1818 roku. Każda konstrukcja jest opisana przez siedem właściwości specyfikacji (trzy ciągłe i cztery nominalne) oraz dla każdej konstrukcji podano pięć parametrów konstrukcyjnych.\n",
        "\n",
        "Dataset zawiera 2 wersje:\n",
        "\n",
        "* V1 zawiera oryginalne przykłady;\n",
        "* V2 zawiera zamienione niektóre dane liczbowe w dane kategoryczne np. zamiast roku powstania mostu dowiadujemy się czy most jest stary, nowy czy średnio stary\n",
        "\n",
        "##  **Atrybuty:**\n",
        "\n",
        "\n",
        "**Specyfikacja:**\n",
        "\n",
        "* id: Identyfiukator mostu.\n",
        "\n",
        "* river/rzeka: Rzeka nad którą zbudowany jest most:\n",
        "    `A : Allegheny,\n",
        "    M : Monongahela,\n",
        "    O : Ohio`\n",
        "\n",
        "* location/lokalizajca: Lokalizacja mostu. `1 - 52`\n",
        "\n",
        "* erected/zbudowany: Rok zbudowania mostu.  `1818 - 1986 `\n",
        "\n",
        "    `CRAFTS: 1818 - 1866,\n",
        "    EMERGING: 1870 - 1889,\n",
        "    MATURE: 1890 - 1939,\n",
        "    MODERN: 1945 - 1986`\n",
        "\n",
        "* purpose/przeznaczenie: Funckja mostu.\n",
        "    `WALK,\n",
        "    AQUEDUCT,\n",
        "    RR (Railroad),\n",
        "    HIGHWAY`\n",
        "\n",
        "* length/długość: Długość mostu  `804-4558`\n",
        "\n",
        "    `SHORT : 804 - 990,\n",
        "    MEDIUM : 1000 - 1850,\n",
        "    LONG : 2000 - 4558`\n",
        "\n",
        "* lanes/pasy: Pasy drogi na moście  `1, 2, 4 and 6`\n",
        "\n",
        "* clear-g: Wymuszony prześwit pod mostem\n",
        "    `N: Not Enforced,\n",
        "    G: Enforced`\n",
        "\n",
        "**Parametry konstrukcyjne**\n",
        "\n",
        "* t-or-d: Położenie jezdni na moście.\n",
        "    `THROUGH,\n",
        "    DECK`\n",
        "\n",
        "* material/materiał: Materiał dominujący mostu.\n",
        "    `WOOD,\n",
        "    IRON,\n",
        "    STEEL`\n",
        "\n",
        "* span/rozpiętość: Rozpiętość mostu.\n",
        "    `SHORT,\n",
        "    MEDIUM,\n",
        "    LONG`\n",
        "\n",
        "* rel-l: Względna długość rozpiętości mostu w stosunku do długości drogi(nie mam pojęcia jak to przetłumaczyć  \n",
        "    `S: Short,\n",
        "    S-F: Short-Full,\n",
        "    F: Full`\n",
        "\n",
        "* type/typ: Typ mostu.\n",
        "    `WOOD,\n",
        "    SUSPEN (Suspension),\n",
        "    SIMPLE-T (Simple Truss),\n",
        "    ARCH,\n",
        "    CANTILEV (Cantilever),\n",
        "    CONT-T (Continuous Truss)`\n",
        "\n",
        "Źródło:\n",
        "\n",
        "https://archive.ics.uci.edu/ml/datasets/Pittsburgh+Bridges\n",
        "\n",
        "Reich, Yoram, and Steven J. Fenves. \"The formation and use of abstract concepts in design.\" Concept Formation. Morgan Kaufmann, 1991. 323-353.\n",
        "Reich, Yoram. \"Combining nominal and continuous properties in an incremental learning system for design.\" (1989).\n"
      ],
      "metadata": {
        "id": "5yQ7dnZmS9W1"
      }
    },
    {
      "cell_type": "markdown",
      "source": [
        "#Importowanie\n"
      ],
      "metadata": {
        "id": "aOfXVWq-Tb_P"
      }
    },
    {
      "cell_type": "code",
      "source": [
        "import keras #library for neural network\n",
        "import pandas as pd #loading data in table form  \n",
        "import seaborn as sns #visualisation \n",
        "import matplotlib.pyplot as plt #visualisation\n",
        "import numpy as np # linear algebra\n",
        "import pandas as pd # data processing, CSV file I/O (e.g. pd.read_csv)\n",
        "\n",
        "from sklearn.preprocessing import normalize #machine learning algorithm library\n",
        "from sklearn import tree\n",
        "from sklearn.impute import SimpleImputer\n",
        "from sklearn.compose import ColumnTransformer\n",
        "from sklearn.tree import DecisionTreeClassifier\n",
        "from sklearn.pipeline import make_pipeline, Pipeline\n",
        "from sklearn.preprocessing import OneHotEncoder, LabelEncoder, OrdinalEncoder\n",
        "from sklearn.metrics import classification_report, ConfusionMatrixDisplay, plot_confusion_matrix, f1_score\n",
        "from sklearn.model_selection import StratifiedKFold, train_test_split, GridSearchCV, RepeatedStratifiedKFold\n",
        "from sklearn import metrics"
      ],
      "metadata": {
        "id": "aeJtxfkbTA2v"
      },
      "execution_count": null,
      "outputs": []
    },
    {
      "cell_type": "code",
      "source": [
        "df1 = pd.read_csv(\"bridges1.csv\")\n",
        "df2 = pd.read_csv(\"bridges2.csv\")\n",
        "df2"
      ],
      "metadata": {
        "colab": {
          "base_uri": "https://localhost:8080/",
          "height": 423
        },
        "id": "jveDGu5BTw_M",
        "outputId": "6fa14299-4cc2-4853-c2a3-7b996927f03e"
      },
      "execution_count": null,
      "outputs": [
        {
          "output_type": "execute_result",
          "data": {
            "text/plain": [
              "       Id river  location erected   purpose  length  lanes clear-g   t-or-d  \\\n",
              "0      E1     M       3.0  CRAFTS   HIGHWAY     NaN    2.0       N  THROUGH   \n",
              "1      E2     A      25.0  CRAFTS   HIGHWAY  MEDIUM    2.0       N  THROUGH   \n",
              "2      E3     A      39.0  CRAFTS  AQUEDUCT     NaN    1.0       N  THROUGH   \n",
              "3      E5     A      29.0  CRAFTS   HIGHWAY  MEDIUM    2.0       N  THROUGH   \n",
              "4      E6     M      23.0  CRAFTS   HIGHWAY     NaN    2.0       N  THROUGH   \n",
              "..    ...   ...       ...     ...       ...     ...    ...     ...      ...   \n",
              "103   E84     A      24.0  MODERN   HIGHWAY   SHORT    6.0       G  THROUGH   \n",
              "104   E91     O      44.0  MODERN   HIGHWAY    LONG    6.0       G  THROUGH   \n",
              "105   E90     M       7.0  MODERN   HIGHWAY   SHORT    6.0       G  THROUGH   \n",
              "106  E100     O      43.0  MODERN   HIGHWAY     NaN    NaN       G      NaN   \n",
              "107  E109     A      28.0  MODERN   HIGHWAY     NaN    NaN       G      NaN   \n",
              "\n",
              "    material    span rel-l  type  \n",
              "0       WOOD   SHORT     S  WOOD  \n",
              "1       WOOD   SHORT     S  WOOD  \n",
              "2       WOOD     NaN     S  WOOD  \n",
              "3       WOOD   SHORT     S  WOOD  \n",
              "4       WOOD     NaN     S  WOOD  \n",
              "..       ...     ...   ...   ...  \n",
              "103    STEEL  MEDIUM     F  ARCH  \n",
              "104    STEEL    LONG     F  ARCH  \n",
              "105    STEEL    LONG     F  ARCH  \n",
              "106      NaN     NaN     F   NaN  \n",
              "107      NaN     NaN     F   NaN  \n",
              "\n",
              "[108 rows x 13 columns]"
            ],
            "text/html": [
              "\n",
              "  <div id=\"df-67ae9612-c2aa-42d9-8790-2be7cb0cae62\">\n",
              "    <div class=\"colab-df-container\">\n",
              "      <div>\n",
              "<style scoped>\n",
              "    .dataframe tbody tr th:only-of-type {\n",
              "        vertical-align: middle;\n",
              "    }\n",
              "\n",
              "    .dataframe tbody tr th {\n",
              "        vertical-align: top;\n",
              "    }\n",
              "\n",
              "    .dataframe thead th {\n",
              "        text-align: right;\n",
              "    }\n",
              "</style>\n",
              "<table border=\"1\" class=\"dataframe\">\n",
              "  <thead>\n",
              "    <tr style=\"text-align: right;\">\n",
              "      <th></th>\n",
              "      <th>Id</th>\n",
              "      <th>river</th>\n",
              "      <th>location</th>\n",
              "      <th>erected</th>\n",
              "      <th>purpose</th>\n",
              "      <th>length</th>\n",
              "      <th>lanes</th>\n",
              "      <th>clear-g</th>\n",
              "      <th>t-or-d</th>\n",
              "      <th>material</th>\n",
              "      <th>span</th>\n",
              "      <th>rel-l</th>\n",
              "      <th>type</th>\n",
              "    </tr>\n",
              "  </thead>\n",
              "  <tbody>\n",
              "    <tr>\n",
              "      <th>0</th>\n",
              "      <td>E1</td>\n",
              "      <td>M</td>\n",
              "      <td>3.0</td>\n",
              "      <td>CRAFTS</td>\n",
              "      <td>HIGHWAY</td>\n",
              "      <td>NaN</td>\n",
              "      <td>2.0</td>\n",
              "      <td>N</td>\n",
              "      <td>THROUGH</td>\n",
              "      <td>WOOD</td>\n",
              "      <td>SHORT</td>\n",
              "      <td>S</td>\n",
              "      <td>WOOD</td>\n",
              "    </tr>\n",
              "    <tr>\n",
              "      <th>1</th>\n",
              "      <td>E2</td>\n",
              "      <td>A</td>\n",
              "      <td>25.0</td>\n",
              "      <td>CRAFTS</td>\n",
              "      <td>HIGHWAY</td>\n",
              "      <td>MEDIUM</td>\n",
              "      <td>2.0</td>\n",
              "      <td>N</td>\n",
              "      <td>THROUGH</td>\n",
              "      <td>WOOD</td>\n",
              "      <td>SHORT</td>\n",
              "      <td>S</td>\n",
              "      <td>WOOD</td>\n",
              "    </tr>\n",
              "    <tr>\n",
              "      <th>2</th>\n",
              "      <td>E3</td>\n",
              "      <td>A</td>\n",
              "      <td>39.0</td>\n",
              "      <td>CRAFTS</td>\n",
              "      <td>AQUEDUCT</td>\n",
              "      <td>NaN</td>\n",
              "      <td>1.0</td>\n",
              "      <td>N</td>\n",
              "      <td>THROUGH</td>\n",
              "      <td>WOOD</td>\n",
              "      <td>NaN</td>\n",
              "      <td>S</td>\n",
              "      <td>WOOD</td>\n",
              "    </tr>\n",
              "    <tr>\n",
              "      <th>3</th>\n",
              "      <td>E5</td>\n",
              "      <td>A</td>\n",
              "      <td>29.0</td>\n",
              "      <td>CRAFTS</td>\n",
              "      <td>HIGHWAY</td>\n",
              "      <td>MEDIUM</td>\n",
              "      <td>2.0</td>\n",
              "      <td>N</td>\n",
              "      <td>THROUGH</td>\n",
              "      <td>WOOD</td>\n",
              "      <td>SHORT</td>\n",
              "      <td>S</td>\n",
              "      <td>WOOD</td>\n",
              "    </tr>\n",
              "    <tr>\n",
              "      <th>4</th>\n",
              "      <td>E6</td>\n",
              "      <td>M</td>\n",
              "      <td>23.0</td>\n",
              "      <td>CRAFTS</td>\n",
              "      <td>HIGHWAY</td>\n",
              "      <td>NaN</td>\n",
              "      <td>2.0</td>\n",
              "      <td>N</td>\n",
              "      <td>THROUGH</td>\n",
              "      <td>WOOD</td>\n",
              "      <td>NaN</td>\n",
              "      <td>S</td>\n",
              "      <td>WOOD</td>\n",
              "    </tr>\n",
              "    <tr>\n",
              "      <th>...</th>\n",
              "      <td>...</td>\n",
              "      <td>...</td>\n",
              "      <td>...</td>\n",
              "      <td>...</td>\n",
              "      <td>...</td>\n",
              "      <td>...</td>\n",
              "      <td>...</td>\n",
              "      <td>...</td>\n",
              "      <td>...</td>\n",
              "      <td>...</td>\n",
              "      <td>...</td>\n",
              "      <td>...</td>\n",
              "      <td>...</td>\n",
              "    </tr>\n",
              "    <tr>\n",
              "      <th>103</th>\n",
              "      <td>E84</td>\n",
              "      <td>A</td>\n",
              "      <td>24.0</td>\n",
              "      <td>MODERN</td>\n",
              "      <td>HIGHWAY</td>\n",
              "      <td>SHORT</td>\n",
              "      <td>6.0</td>\n",
              "      <td>G</td>\n",
              "      <td>THROUGH</td>\n",
              "      <td>STEEL</td>\n",
              "      <td>MEDIUM</td>\n",
              "      <td>F</td>\n",
              "      <td>ARCH</td>\n",
              "    </tr>\n",
              "    <tr>\n",
              "      <th>104</th>\n",
              "      <td>E91</td>\n",
              "      <td>O</td>\n",
              "      <td>44.0</td>\n",
              "      <td>MODERN</td>\n",
              "      <td>HIGHWAY</td>\n",
              "      <td>LONG</td>\n",
              "      <td>6.0</td>\n",
              "      <td>G</td>\n",
              "      <td>THROUGH</td>\n",
              "      <td>STEEL</td>\n",
              "      <td>LONG</td>\n",
              "      <td>F</td>\n",
              "      <td>ARCH</td>\n",
              "    </tr>\n",
              "    <tr>\n",
              "      <th>105</th>\n",
              "      <td>E90</td>\n",
              "      <td>M</td>\n",
              "      <td>7.0</td>\n",
              "      <td>MODERN</td>\n",
              "      <td>HIGHWAY</td>\n",
              "      <td>SHORT</td>\n",
              "      <td>6.0</td>\n",
              "      <td>G</td>\n",
              "      <td>THROUGH</td>\n",
              "      <td>STEEL</td>\n",
              "      <td>LONG</td>\n",
              "      <td>F</td>\n",
              "      <td>ARCH</td>\n",
              "    </tr>\n",
              "    <tr>\n",
              "      <th>106</th>\n",
              "      <td>E100</td>\n",
              "      <td>O</td>\n",
              "      <td>43.0</td>\n",
              "      <td>MODERN</td>\n",
              "      <td>HIGHWAY</td>\n",
              "      <td>NaN</td>\n",
              "      <td>NaN</td>\n",
              "      <td>G</td>\n",
              "      <td>NaN</td>\n",
              "      <td>NaN</td>\n",
              "      <td>NaN</td>\n",
              "      <td>F</td>\n",
              "      <td>NaN</td>\n",
              "    </tr>\n",
              "    <tr>\n",
              "      <th>107</th>\n",
              "      <td>E109</td>\n",
              "      <td>A</td>\n",
              "      <td>28.0</td>\n",
              "      <td>MODERN</td>\n",
              "      <td>HIGHWAY</td>\n",
              "      <td>NaN</td>\n",
              "      <td>NaN</td>\n",
              "      <td>G</td>\n",
              "      <td>NaN</td>\n",
              "      <td>NaN</td>\n",
              "      <td>NaN</td>\n",
              "      <td>F</td>\n",
              "      <td>NaN</td>\n",
              "    </tr>\n",
              "  </tbody>\n",
              "</table>\n",
              "<p>108 rows × 13 columns</p>\n",
              "</div>\n",
              "      <button class=\"colab-df-convert\" onclick=\"convertToInteractive('df-67ae9612-c2aa-42d9-8790-2be7cb0cae62')\"\n",
              "              title=\"Convert this dataframe to an interactive table.\"\n",
              "              style=\"display:none;\">\n",
              "        \n",
              "  <svg xmlns=\"http://www.w3.org/2000/svg\" height=\"24px\"viewBox=\"0 0 24 24\"\n",
              "       width=\"24px\">\n",
              "    <path d=\"M0 0h24v24H0V0z\" fill=\"none\"/>\n",
              "    <path d=\"M18.56 5.44l.94 2.06.94-2.06 2.06-.94-2.06-.94-.94-2.06-.94 2.06-2.06.94zm-11 1L8.5 8.5l.94-2.06 2.06-.94-2.06-.94L8.5 2.5l-.94 2.06-2.06.94zm10 10l.94 2.06.94-2.06 2.06-.94-2.06-.94-.94-2.06-.94 2.06-2.06.94z\"/><path d=\"M17.41 7.96l-1.37-1.37c-.4-.4-.92-.59-1.43-.59-.52 0-1.04.2-1.43.59L10.3 9.45l-7.72 7.72c-.78.78-.78 2.05 0 2.83L4 21.41c.39.39.9.59 1.41.59.51 0 1.02-.2 1.41-.59l7.78-7.78 2.81-2.81c.8-.78.8-2.07 0-2.86zM5.41 20L4 18.59l7.72-7.72 1.47 1.35L5.41 20z\"/>\n",
              "  </svg>\n",
              "      </button>\n",
              "      \n",
              "  <style>\n",
              "    .colab-df-container {\n",
              "      display:flex;\n",
              "      flex-wrap:wrap;\n",
              "      gap: 12px;\n",
              "    }\n",
              "\n",
              "    .colab-df-convert {\n",
              "      background-color: #E8F0FE;\n",
              "      border: none;\n",
              "      border-radius: 50%;\n",
              "      cursor: pointer;\n",
              "      display: none;\n",
              "      fill: #1967D2;\n",
              "      height: 32px;\n",
              "      padding: 0 0 0 0;\n",
              "      width: 32px;\n",
              "    }\n",
              "\n",
              "    .colab-df-convert:hover {\n",
              "      background-color: #E2EBFA;\n",
              "      box-shadow: 0px 1px 2px rgba(60, 64, 67, 0.3), 0px 1px 3px 1px rgba(60, 64, 67, 0.15);\n",
              "      fill: #174EA6;\n",
              "    }\n",
              "\n",
              "    [theme=dark] .colab-df-convert {\n",
              "      background-color: #3B4455;\n",
              "      fill: #D2E3FC;\n",
              "    }\n",
              "\n",
              "    [theme=dark] .colab-df-convert:hover {\n",
              "      background-color: #434B5C;\n",
              "      box-shadow: 0px 1px 3px 1px rgba(0, 0, 0, 0.15);\n",
              "      filter: drop-shadow(0px 1px 2px rgba(0, 0, 0, 0.3));\n",
              "      fill: #FFFFFF;\n",
              "    }\n",
              "  </style>\n",
              "\n",
              "      <script>\n",
              "        const buttonEl =\n",
              "          document.querySelector('#df-67ae9612-c2aa-42d9-8790-2be7cb0cae62 button.colab-df-convert');\n",
              "        buttonEl.style.display =\n",
              "          google.colab.kernel.accessAllowed ? 'block' : 'none';\n",
              "\n",
              "        async function convertToInteractive(key) {\n",
              "          const element = document.querySelector('#df-67ae9612-c2aa-42d9-8790-2be7cb0cae62');\n",
              "          const dataTable =\n",
              "            await google.colab.kernel.invokeFunction('convertToInteractive',\n",
              "                                                     [key], {});\n",
              "          if (!dataTable) return;\n",
              "\n",
              "          const docLinkHtml = 'Like what you see? Visit the ' +\n",
              "            '<a target=\"_blank\" href=https://colab.research.google.com/notebooks/data_table.ipynb>data table notebook</a>'\n",
              "            + ' to learn more about interactive tables.';\n",
              "          element.innerHTML = '';\n",
              "          dataTable['output_type'] = 'display_data';\n",
              "          await google.colab.output.renderOutput(dataTable, element);\n",
              "          const docLink = document.createElement('div');\n",
              "          docLink.innerHTML = docLinkHtml;\n",
              "          element.appendChild(docLink);\n",
              "        }\n",
              "      </script>\n",
              "    </div>\n",
              "  </div>\n",
              "  "
            ]
          },
          "metadata": {},
          "execution_count": 4
        }
      ]
    },
    {
      "cell_type": "markdown",
      "source": [
        "#Wizualizacja"
      ],
      "metadata": {
        "id": "_WJxeSu3UDMU"
      }
    },
    {
      "cell_type": "code",
      "source": [
        "sns.lmplot(data=df1, x='length', y='location', fit_reg=False, hue=\"material\", scatter_kws={\"marker\": \"D\",\"s\": 40}, height=7,aspect=12 / 6)\n",
        "plt.title('Bridges lenght/location/material visualization')\n",
        "plt.xlabel('length [m]')\n",
        "\n",
        "plt.show()\n",
        "\n",
        "sns.lmplot( x='lanes', y='erected',data=df1, fit_reg=False, hue=\"river\", scatter_kws={\"marker\": \"D\",\"s\": 40}, height=7,aspect=12 / 6)\n",
        "plt.title('Bridges lanes/erected/material river')\n",
        "plt.show()\n",
        "\n",
        "print(len(df1[\"purpose\"].unique()))\n",
        "plt.hist(df1[\"purpose\"])\n",
        "plt.show()"
      ],
      "metadata": {
        "colab": {
          "base_uri": "https://localhost:8080/",
          "height": 1000
        },
        "id": "BPUceY4rUan6",
        "outputId": "aee24224-fbbf-4fe6-d406-09267e1044c7"
      },
      "execution_count": null,
      "outputs": [
        {
          "output_type": "display_data",
          "data": {
            "text/plain": [
              "<Figure size 1077.12x504 with 1 Axes>"
            ],
            "image/png": "[encoded data removed]"
          },
          "metadata": {
            "needs_background": "light"
          }
        },
        {
          "output_type": "display_data",
          "data": {
            "text/plain": [
              "<Figure size 1052.62x504 with 1 Axes>"
            ],
            "image/png": "[encoded data removed]"
          },
          "metadata": {
            "needs_background": "light"
          }
        },
        {
          "output_type": "stream",
          "name": "stdout",
          "text": [
            "4\n"
          ]
        },
        {
          "output_type": "display_data",
          "data": {
            "text/plain": [
              "<Figure size 432x288 with 1 Axes>"
            ],
            "image/png": "[encoded data removed]"
          },
          "metadata": {
            "needs_background": "light"
          }
        }
      ]
    },
    {
      "cell_type": "markdown",
      "source": [
        "#Przygotowanie"
      ],
      "metadata": {
        "id": "defQcO1cUzPw"
      }
    },
    {
      "cell_type": "code",
      "source": [
        "X = df2.iloc[:, 1:8]\n",
        "Y = df2.iloc[:, 8:]\n",
        "print(X)\n",
        "print(Y)"
      ],
      "metadata": {
        "colab": {
          "base_uri": "https://localhost:8080/"
        },
        "id": "6hZMoGMEU2b6",
        "outputId": "4be11f08-b7ed-4782-ccad-cf317a597931"
      },
      "execution_count": null,
      "outputs": [
        {
          "output_type": "stream",
          "name": "stdout",
          "text": [
            "    river  location erected   purpose  length  lanes clear-g\n",
            "0       M       3.0  CRAFTS   HIGHWAY     NaN    2.0       N\n",
            "1       A      25.0  CRAFTS   HIGHWAY  MEDIUM    2.0       N\n",
            "2       A      39.0  CRAFTS  AQUEDUCT     NaN    1.0       N\n",
            "3       A      29.0  CRAFTS   HIGHWAY  MEDIUM    2.0       N\n",
            "4       M      23.0  CRAFTS   HIGHWAY     NaN    2.0       N\n",
            "..    ...       ...     ...       ...     ...    ...     ...\n",
            "103     A      24.0  MODERN   HIGHWAY   SHORT    6.0       G\n",
            "104     O      44.0  MODERN   HIGHWAY    LONG    6.0       G\n",
            "105     M       7.0  MODERN   HIGHWAY   SHORT    6.0       G\n",
            "106     O      43.0  MODERN   HIGHWAY     NaN    NaN       G\n",
            "107     A      28.0  MODERN   HIGHWAY     NaN    NaN       G\n",
            "\n",
            "[108 rows x 7 columns]\n",
            "      t-or-d material    span rel-l  type\n",
            "0    THROUGH     WOOD   SHORT     S  WOOD\n",
            "1    THROUGH     WOOD   SHORT     S  WOOD\n",
            "2    THROUGH     WOOD     NaN     S  WOOD\n",
            "3    THROUGH     WOOD   SHORT     S  WOOD\n",
            "4    THROUGH     WOOD     NaN     S  WOOD\n",
            "..       ...      ...     ...   ...   ...\n",
            "103  THROUGH    STEEL  MEDIUM     F  ARCH\n",
            "104  THROUGH    STEEL    LONG     F  ARCH\n",
            "105  THROUGH    STEEL    LONG     F  ARCH\n",
            "106      NaN      NaN     NaN     F   NaN\n",
            "107      NaN      NaN     NaN     F   NaN\n",
            "\n",
            "[108 rows x 5 columns]\n"
          ]
        }
      ]
    },
    {
      "cell_type": "markdown",
      "source": [
        "Zamiana danych tekstowych na numeryczne"
      ],
      "metadata": {
        "id": "eAEsnCx2VS9Y"
      }
    },
    {
      "cell_type": "code",
      "source": [
        "order = {\"river\":{ \"A\" : 0., \"M\" : 1, \"O\" : 3,\"Y\":4},\"erected\":{\"CRAFTS\": 0, \"EMERGING\": 1, \"MATURE\": 2, \"MODERN\":3},\"length\":{ \"SHORT\" : 0, \"MEDIUM\" : 1, \"LONG\" : 2},\"purpose\":{ \"WALK\" : 0, \"AQUEDUCT\" : 1, \"RR\" : 2 , \"HIGHWAY\" : 3},\"clear-g\":{ \"N\" : 0, \"G\" : 1},\\\n",
        "         \"t-or-d\":{ \"THROUGH\" : 0, \"DECK\" : 1},\"material\":{ \"WOOD\": 0, \"IRON\": 1, \"STEEL\": 2},\"span\":{\"SHORT\": 0, \"MEDIUM\": 1, \"LONG\": 2 },\"rel-l\":{ \"S\" : 0, \"S-F\" : 1, \"F\" : 2},\"type\":{\"WOOD\":0, \"SUSPEN\":1, \"SIMPLE-T\":2, \"ARCH\":3, \"CANTILEV\":4, \"CONT-T\":5}}\n",
        "def view_ord():\n",
        "  global order\n",
        "  for elem in order.items():\n",
        "    print(elem)\n",
        "for x in X:\n",
        "  my_mapper = {}\n",
        "  if(x==\"lanes\" or x == \"location\"):\n",
        "    continue\n",
        "  X[x]=X[x].map(order[x])\n",
        "print(X.info())\n",
        "for y in Y:\n",
        "  my_mapper = {}\n",
        "  Y[y]=Y[y].map(order[y])\n",
        "print(Y.info())"
      ],
      "metadata": {
        "colab": {
          "base_uri": "https://localhost:8080/"
        },
        "id": "-B1d6BBcVVEk",
        "outputId": "1aa4c465-4ee8-4b86-b686-62465099f259"
      },
      "execution_count": null,
      "outputs": [
        {
          "output_type": "stream",
          "name": "stdout",
          "text": [
            "<class 'pandas.core.frame.DataFrame'>\n",
            "RangeIndex: 108 entries, 0 to 107\n",
            "Data columns (total 7 columns):\n",
            " #   Column    Non-Null Count  Dtype  \n",
            "---  ------    --------------  -----  \n",
            " 0   river     108 non-null    float64\n",
            " 1   location  107 non-null    float64\n",
            " 2   erected   108 non-null    int64  \n",
            " 3   purpose   108 non-null    int64  \n",
            " 4   length    81 non-null     float64\n",
            " 5   lanes     92 non-null     float64\n",
            " 6   clear-g   106 non-null    float64\n",
            "dtypes: float64(5), int64(2)\n",
            "memory usage: 6.0 KB\n",
            "None\n",
            "<class 'pandas.core.frame.DataFrame'>\n",
            "RangeIndex: 108 entries, 0 to 107\n",
            "Data columns (total 5 columns):\n",
            " #   Column    Non-Null Count  Dtype  \n",
            "---  ------    --------------  -----  \n",
            " 0   t-or-d    102 non-null    float64\n",
            " 1   material  106 non-null    float64\n",
            " 2   span      92 non-null     float64\n",
            " 3   rel-l     103 non-null    float64\n",
            " 4   type      105 non-null    float64\n",
            "dtypes: float64(5)\n",
            "memory usage: 4.3 KB\n",
            "None\n"
          ]
        }
      ]
    },
    {
      "cell_type": "markdown",
      "source": [
        "Uzupełnienie pustych danych medianą"
      ],
      "metadata": {
        "id": "0ZBEBXECVtde"
      }
    },
    {
      "cell_type": "code",
      "source": [
        "Y = Y.fillna(Y.median())"
      ],
      "metadata": {
        "id": "pf6-ycCBVvG4"
      },
      "execution_count": null,
      "outputs": []
    },
    {
      "cell_type": "code",
      "source": [
        "df2[df2['type'] == 'NIL']"
      ],
      "metadata": {
        "colab": {
          "base_uri": "https://localhost:8080/",
          "height": 81
        },
        "id": "ZVuVJL-TV0l8",
        "outputId": "c5d99e30-4bea-4bce-8d27-634b61e6e145"
      },
      "execution_count": null,
      "outputs": [
        {
          "output_type": "execute_result",
          "data": {
            "text/plain": [
              "      Id river  location erected purpose length  lanes clear-g t-or-d  \\\n",
              "63  E107     A      39.0  MATURE      RR    NaN    NaN       G    NaN   \n",
              "\n",
              "   material span rel-l type  \n",
              "63    STEEL  NaN     F  NIL  "
            ],
            "text/html": [
              "\n",
              "  <div id=\"df-45eb4e46-c67b-484f-85df-5b6ad84a4402\">\n",
              "    <div class=\"colab-df-container\">\n",
              "      <div>\n",
              "<style scoped>\n",
              "    .dataframe tbody tr th:only-of-type {\n",
              "        vertical-align: middle;\n",
              "    }\n",
              "\n",
              "    .dataframe tbody tr th {\n",
              "        vertical-align: top;\n",
              "    }\n",
              "\n",
              "    .dataframe thead th {\n",
              "        text-align: right;\n",
              "    }\n",
              "</style>\n",
              "<table border=\"1\" class=\"dataframe\">\n",
              "  <thead>\n",
              "    <tr style=\"text-align: right;\">\n",
              "      <th></th>\n",
              "      <th>Id</th>\n",
              "      <th>river</th>\n",
              "      <th>location</th>\n",
              "      <th>erected</th>\n",
              "      <th>purpose</th>\n",
              "      <th>length</th>\n",
              "      <th>lanes</th>\n",
              "      <th>clear-g</th>\n",
              "      <th>t-or-d</th>\n",
              "      <th>material</th>\n",
              "      <th>span</th>\n",
              "      <th>rel-l</th>\n",
              "      <th>type</th>\n",
              "    </tr>\n",
              "  </thead>\n",
              "  <tbody>\n",
              "    <tr>\n",
              "      <th>63</th>\n",
              "      <td>E107</td>\n",
              "      <td>A</td>\n",
              "      <td>39.0</td>\n",
              "      <td>MATURE</td>\n",
              "      <td>RR</td>\n",
              "      <td>NaN</td>\n",
              "      <td>NaN</td>\n",
              "      <td>G</td>\n",
              "      <td>NaN</td>\n",
              "      <td>STEEL</td>\n",
              "      <td>NaN</td>\n",
              "      <td>F</td>\n",
              "      <td>NIL</td>\n",
              "    </tr>\n",
              "  </tbody>\n",
              "</table>\n",
              "</div>\n",
              "      <button class=\"colab-df-convert\" onclick=\"convertToInteractive('df-45eb4e46-c67b-484f-85df-5b6ad84a4402')\"\n",
              "              title=\"Convert this dataframe to an interactive table.\"\n",
              "              style=\"display:none;\">\n",
              "        \n",
              "  <svg xmlns=\"http://www.w3.org/2000/svg\" height=\"24px\"viewBox=\"0 0 24 24\"\n",
              "       width=\"24px\">\n",
              "    <path d=\"M0 0h24v24H0V0z\" fill=\"none\"/>\n",
              "    <path d=\"M18.56 5.44l.94 2.06.94-2.06 2.06-.94-2.06-.94-.94-2.06-.94 2.06-2.06.94zm-11 1L8.5 8.5l.94-2.06 2.06-.94-2.06-.94L8.5 2.5l-.94 2.06-2.06.94zm10 10l.94 2.06.94-2.06 2.06-.94-2.06-.94-.94-2.06-.94 2.06-2.06.94z\"/><path d=\"M17.41 7.96l-1.37-1.37c-.4-.4-.92-.59-1.43-.59-.52 0-1.04.2-1.43.59L10.3 9.45l-7.72 7.72c-.78.78-.78 2.05 0 2.83L4 21.41c.39.39.9.59 1.41.59.51 0 1.02-.2 1.41-.59l7.78-7.78 2.81-2.81c.8-.78.8-2.07 0-2.86zM5.41 20L4 18.59l7.72-7.72 1.47 1.35L5.41 20z\"/>\n",
              "  </svg>\n",
              "      </button>\n",
              "      \n",
              "  <style>\n",
              "    .colab-df-container {\n",
              "      display:flex;\n",
              "      flex-wrap:wrap;\n",
              "      gap: 12px;\n",
              "    }\n",
              "\n",
              "    .colab-df-convert {\n",
              "      background-color: #E8F0FE;\n",
              "      border: none;\n",
              "      border-radius: 50%;\n",
              "      cursor: pointer;\n",
              "      display: none;\n",
              "      fill: #1967D2;\n",
              "      height: 32px;\n",
              "      padding: 0 0 0 0;\n",
              "      width: 32px;\n",
              "    }\n",
              "\n",
              "    .colab-df-convert:hover {\n",
              "      background-color: #E2EBFA;\n",
              "      box-shadow: 0px 1px 2px rgba(60, 64, 67, 0.3), 0px 1px 3px 1px rgba(60, 64, 67, 0.15);\n",
              "      fill: #174EA6;\n",
              "    }\n",
              "\n",
              "    [theme=dark] .colab-df-convert {\n",
              "      background-color: #3B4455;\n",
              "      fill: #D2E3FC;\n",
              "    }\n",
              "\n",
              "    [theme=dark] .colab-df-convert:hover {\n",
              "      background-color: #434B5C;\n",
              "      box-shadow: 0px 1px 3px 1px rgba(0, 0, 0, 0.15);\n",
              "      filter: drop-shadow(0px 1px 2px rgba(0, 0, 0, 0.3));\n",
              "      fill: #FFFFFF;\n",
              "    }\n",
              "  </style>\n",
              "\n",
              "      <script>\n",
              "        const buttonEl =\n",
              "          document.querySelector('#df-45eb4e46-c67b-484f-85df-5b6ad84a4402 button.colab-df-convert');\n",
              "        buttonEl.style.display =\n",
              "          google.colab.kernel.accessAllowed ? 'block' : 'none';\n",
              "\n",
              "        async function convertToInteractive(key) {\n",
              "          const element = document.querySelector('#df-45eb4e46-c67b-484f-85df-5b6ad84a4402');\n",
              "          const dataTable =\n",
              "            await google.colab.kernel.invokeFunction('convertToInteractive',\n",
              "                                                     [key], {});\n",
              "          if (!dataTable) return;\n",
              "\n",
              "          const docLinkHtml = 'Like what you see? Visit the ' +\n",
              "            '<a target=\"_blank\" href=https://colab.research.google.com/notebooks/data_table.ipynb>data table notebook</a>'\n",
              "            + ' to learn more about interactive tables.';\n",
              "          element.innerHTML = '';\n",
              "          dataTable['output_type'] = 'display_data';\n",
              "          await google.colab.output.renderOutput(dataTable, element);\n",
              "          const docLink = document.createElement('div');\n",
              "          docLink.innerHTML = docLinkHtml;\n",
              "          element.appendChild(docLink);\n",
              "        }\n",
              "      </script>\n",
              "    </div>\n",
              "  </div>\n",
              "  "
            ]
          },
          "metadata": {},
          "execution_count": 9
        }
      ]
    },
    {
      "cell_type": "markdown",
      "source": [
        "Widzimy, że posiadamy tylko jeden rekord z wartością NIL. Musimy go usunąć by nie zaburzał wyniku. Dodatkowo nie jest zapisany w opisie danych także prawdopodobnie jest to błąd. Usuwam również kolumnę location, gdyż znacznie utrudnia otrzymanie poprawnych wyników"
      ],
      "metadata": {
        "id": "RhKjchO3VwWJ"
      }
    },
    {
      "cell_type": "code",
      "source": [
        "Y = Y.drop([63])\n",
        "X = X.drop([63])\n",
        "X = X.drop('location', axis=1)\n"
      ],
      "metadata": {
        "id": "sDBpn3zqV3VL"
      },
      "execution_count": null,
      "outputs": []
    },
    {
      "cell_type": "code",
      "source": [
        "print(Y.info())"
      ],
      "metadata": {
        "colab": {
          "base_uri": "https://localhost:8080/"
        },
        "id": "Cg0LjAa3WecR",
        "outputId": "b2c7d68b-a7de-42df-a3e7-9e9bc8af133c"
      },
      "execution_count": null,
      "outputs": [
        {
          "output_type": "stream",
          "name": "stdout",
          "text": [
            "<class 'pandas.core.frame.DataFrame'>\n",
            "Int64Index: 107 entries, 0 to 107\n",
            "Data columns (total 5 columns):\n",
            " #   Column    Non-Null Count  Dtype  \n",
            "---  ------    --------------  -----  \n",
            " 0   t-or-d    107 non-null    float64\n",
            " 1   material  107 non-null    float64\n",
            " 2   span      107 non-null    float64\n",
            " 3   rel-l     107 non-null    float64\n",
            " 4   type      107 non-null    float64\n",
            "dtypes: float64(5)\n",
            "memory usage: 5.0 KB\n",
            "None\n"
          ]
        }
      ]
    },
    {
      "cell_type": "markdown",
      "source": [
        "Klasyfikacja danych"
      ],
      "metadata": {
        "id": "V-1O4k_TWDGv"
      }
    },
    {
      "cell_type": "code",
      "source": [
        "i= Y.groupby([\"t-or-d\",\"material\",\"span\",\"rel-l\",\"type\"]).mean()\n",
        "mapa=[]\n",
        "for i in (i.index):\n",
        "  mapa.append(list(i))\n",
        "print(mapa)\n",
        "def classifier(row):\n",
        "  global mapa\n",
        "  return mapa.index(row.to_list())\n",
        "\n"
      ],
      "metadata": {
        "colab": {
          "base_uri": "https://localhost:8080/"
        },
        "id": "51FU_8n5WCcV",
        "outputId": "e59fc2d7-e145-4f9b-e829-f1c6025c759f"
      },
      "execution_count": null,
      "outputs": [
        {
          "output_type": "stream",
          "name": "stdout",
          "text": [
            "[[0.0, 0.0, 0.0, 0.0, 0.0], [0.0, 0.0, 1.0, 0.0, 0.0], [0.0, 1.0, 0.0, 0.0, 1.0], [0.0, 1.0, 0.0, 0.0, 2.0], [0.0, 1.0, 0.0, 2.0, 2.0], [0.0, 1.0, 1.0, 1.0, 1.0], [0.0, 1.0, 1.0, 2.0, 2.0], [0.0, 2.0, 1.0, 0.0, 2.0], [0.0, 2.0, 1.0, 0.0, 3.0], [0.0, 2.0, 1.0, 1.0, 1.0], [0.0, 2.0, 1.0, 1.0, 2.0], [0.0, 2.0, 1.0, 2.0, 1.0], [0.0, 2.0, 1.0, 2.0, 2.0], [0.0, 2.0, 1.0, 2.0, 3.0], [0.0, 2.0, 1.0, 2.0, 4.0], [0.0, 2.0, 1.0, 2.0, 5.0], [0.0, 2.0, 2.0, 1.0, 4.0], [0.0, 2.0, 2.0, 2.0, 1.0], [0.0, 2.0, 2.0, 2.0, 2.0], [0.0, 2.0, 2.0, 2.0, 3.0], [0.0, 2.0, 2.0, 2.0, 4.0], [0.0, 2.0, 2.0, 2.0, 5.0], [1.0, 0.0, 1.0, 0.0, 0.0], [1.0, 2.0, 1.0, 1.0, 4.0], [1.0, 2.0, 1.0, 1.0, 5.0], [1.0, 2.0, 1.0, 2.0, 3.0], [1.0, 2.0, 1.0, 2.0, 4.0], [1.0, 2.0, 2.0, 1.0, 5.0], [1.0, 2.0, 2.0, 2.0, 2.0], [1.0, 2.0, 2.0, 2.0, 5.0]]\n"
          ]
        }
      ]
    },
    {
      "cell_type": "code",
      "source": [
        "Y[\"class\"] = Y.apply(classifier, axis=1)\n",
        "Y"
      ],
      "metadata": {
        "colab": {
          "base_uri": "https://localhost:8080/",
          "height": 423
        },
        "id": "SGX4DSdNXNbV",
        "outputId": "56a53631-061c-43e8-f0d2-464c9abff576"
      },
      "execution_count": null,
      "outputs": [
        {
          "output_type": "execute_result",
          "data": {
            "text/plain": [
              "     t-or-d  material  span  rel-l  type  class\n",
              "0       0.0       0.0   0.0    0.0   0.0      0\n",
              "1       0.0       0.0   0.0    0.0   0.0      0\n",
              "2       0.0       0.0   1.0    0.0   0.0      1\n",
              "3       0.0       0.0   0.0    0.0   0.0      0\n",
              "4       0.0       0.0   1.0    0.0   0.0      1\n",
              "..      ...       ...   ...    ...   ...    ...\n",
              "103     0.0       2.0   1.0    2.0   3.0     13\n",
              "104     0.0       2.0   2.0    2.0   3.0     19\n",
              "105     0.0       2.0   2.0    2.0   3.0     19\n",
              "106     0.0       2.0   1.0    2.0   2.0     12\n",
              "107     0.0       2.0   1.0    2.0   2.0     12\n",
              "\n",
              "[107 rows x 6 columns]"
            ],
            "text/html": [
              "\n",
              "  <div id=\"df-c5bb6e9a-468a-4463-81cf-e67b7e90fcd0\">\n",
              "    <div class=\"colab-df-container\">\n",
              "      <div>\n",
              "<style scoped>\n",
              "    .dataframe tbody tr th:only-of-type {\n",
              "        vertical-align: middle;\n",
              "    }\n",
              "\n",
              "    .dataframe tbody tr th {\n",
              "        vertical-align: top;\n",
              "    }\n",
              "\n",
              "    .dataframe thead th {\n",
              "        text-align: right;\n",
              "    }\n",
              "</style>\n",
              "<table border=\"1\" class=\"dataframe\">\n",
              "  <thead>\n",
              "    <tr style=\"text-align: right;\">\n",
              "      <th></th>\n",
              "      <th>t-or-d</th>\n",
              "      <th>material</th>\n",
              "      <th>span</th>\n",
              "      <th>rel-l</th>\n",
              "      <th>type</th>\n",
              "      <th>class</th>\n",
              "    </tr>\n",
              "  </thead>\n",
              "  <tbody>\n",
              "    <tr>\n",
              "      <th>0</th>\n",
              "      <td>0.0</td>\n",
              "      <td>0.0</td>\n",
              "      <td>0.0</td>\n",
              "      <td>0.0</td>\n",
              "      <td>0.0</td>\n",
              "      <td>0</td>\n",
              "    </tr>\n",
              "    <tr>\n",
              "      <th>1</th>\n",
              "      <td>0.0</td>\n",
              "      <td>0.0</td>\n",
              "      <td>0.0</td>\n",
              "      <td>0.0</td>\n",
              "      <td>0.0</td>\n",
              "      <td>0</td>\n",
              "    </tr>\n",
              "    <tr>\n",
              "      <th>2</th>\n",
              "      <td>0.0</td>\n",
              "      <td>0.0</td>\n",
              "      <td>1.0</td>\n",
              "      <td>0.0</td>\n",
              "      <td>0.0</td>\n",
              "      <td>1</td>\n",
              "    </tr>\n",
              "    <tr>\n",
              "      <th>3</th>\n",
              "      <td>0.0</td>\n",
              "      <td>0.0</td>\n",
              "      <td>0.0</td>\n",
              "      <td>0.0</td>\n",
              "      <td>0.0</td>\n",
              "      <td>0</td>\n",
              "    </tr>\n",
              "    <tr>\n",
              "      <th>4</th>\n",
              "      <td>0.0</td>\n",
              "      <td>0.0</td>\n",
              "      <td>1.0</td>\n",
              "      <td>0.0</td>\n",
              "      <td>0.0</td>\n",
              "      <td>1</td>\n",
              "    </tr>\n",
              "    <tr>\n",
              "      <th>...</th>\n",
              "      <td>...</td>\n",
              "      <td>...</td>\n",
              "      <td>...</td>\n",
              "      <td>...</td>\n",
              "      <td>...</td>\n",
              "      <td>...</td>\n",
              "    </tr>\n",
              "    <tr>\n",
              "      <th>103</th>\n",
              "      <td>0.0</td>\n",
              "      <td>2.0</td>\n",
              "      <td>1.0</td>\n",
              "      <td>2.0</td>\n",
              "      <td>3.0</td>\n",
              "      <td>13</td>\n",
              "    </tr>\n",
              "    <tr>\n",
              "      <th>104</th>\n",
              "      <td>0.0</td>\n",
              "      <td>2.0</td>\n",
              "      <td>2.0</td>\n",
              "      <td>2.0</td>\n",
              "      <td>3.0</td>\n",
              "      <td>19</td>\n",
              "    </tr>\n",
              "    <tr>\n",
              "      <th>105</th>\n",
              "      <td>0.0</td>\n",
              "      <td>2.0</td>\n",
              "      <td>2.0</td>\n",
              "      <td>2.0</td>\n",
              "      <td>3.0</td>\n",
              "      <td>19</td>\n",
              "    </tr>\n",
              "    <tr>\n",
              "      <th>106</th>\n",
              "      <td>0.0</td>\n",
              "      <td>2.0</td>\n",
              "      <td>1.0</td>\n",
              "      <td>2.0</td>\n",
              "      <td>2.0</td>\n",
              "      <td>12</td>\n",
              "    </tr>\n",
              "    <tr>\n",
              "      <th>107</th>\n",
              "      <td>0.0</td>\n",
              "      <td>2.0</td>\n",
              "      <td>1.0</td>\n",
              "      <td>2.0</td>\n",
              "      <td>2.0</td>\n",
              "      <td>12</td>\n",
              "    </tr>\n",
              "  </tbody>\n",
              "</table>\n",
              "<p>107 rows × 6 columns</p>\n",
              "</div>\n",
              "      <button class=\"colab-df-convert\" onclick=\"convertToInteractive('df-c5bb6e9a-468a-4463-81cf-e67b7e90fcd0')\"\n",
              "              title=\"Convert this dataframe to an interactive table.\"\n",
              "              style=\"display:none;\">\n",
              "        \n",
              "  <svg xmlns=\"http://www.w3.org/2000/svg\" height=\"24px\"viewBox=\"0 0 24 24\"\n",
              "       width=\"24px\">\n",
              "    <path d=\"M0 0h24v24H0V0z\" fill=\"none\"/>\n",
              "    <path d=\"M18.56 5.44l.94 2.06.94-2.06 2.06-.94-2.06-.94-.94-2.06-.94 2.06-2.06.94zm-11 1L8.5 8.5l.94-2.06 2.06-.94-2.06-.94L8.5 2.5l-.94 2.06-2.06.94zm10 10l.94 2.06.94-2.06 2.06-.94-2.06-.94-.94-2.06-.94 2.06-2.06.94z\"/><path d=\"M17.41 7.96l-1.37-1.37c-.4-.4-.92-.59-1.43-.59-.52 0-1.04.2-1.43.59L10.3 9.45l-7.72 7.72c-.78.78-.78 2.05 0 2.83L4 21.41c.39.39.9.59 1.41.59.51 0 1.02-.2 1.41-.59l7.78-7.78 2.81-2.81c.8-.78.8-2.07 0-2.86zM5.41 20L4 18.59l7.72-7.72 1.47 1.35L5.41 20z\"/>\n",
              "  </svg>\n",
              "      </button>\n",
              "      \n",
              "  <style>\n",
              "    .colab-df-container {\n",
              "      display:flex;\n",
              "      flex-wrap:wrap;\n",
              "      gap: 12px;\n",
              "    }\n",
              "\n",
              "    .colab-df-convert {\n",
              "      background-color: #E8F0FE;\n",
              "      border: none;\n",
              "      border-radius: 50%;\n",
              "      cursor: pointer;\n",
              "      display: none;\n",
              "      fill: #1967D2;\n",
              "      height: 32px;\n",
              "      padding: 0 0 0 0;\n",
              "      width: 32px;\n",
              "    }\n",
              "\n",
              "    .colab-df-convert:hover {\n",
              "      background-color: #E2EBFA;\n",
              "      box-shadow: 0px 1px 2px rgba(60, 64, 67, 0.3), 0px 1px 3px 1px rgba(60, 64, 67, 0.15);\n",
              "      fill: #174EA6;\n",
              "    }\n",
              "\n",
              "    [theme=dark] .colab-df-convert {\n",
              "      background-color: #3B4455;\n",
              "      fill: #D2E3FC;\n",
              "    }\n",
              "\n",
              "    [theme=dark] .colab-df-convert:hover {\n",
              "      background-color: #434B5C;\n",
              "      box-shadow: 0px 1px 3px 1px rgba(0, 0, 0, 0.15);\n",
              "      filter: drop-shadow(0px 1px 2px rgba(0, 0, 0, 0.3));\n",
              "      fill: #FFFFFF;\n",
              "    }\n",
              "  </style>\n",
              "\n",
              "      <script>\n",
              "        const buttonEl =\n",
              "          document.querySelector('#df-c5bb6e9a-468a-4463-81cf-e67b7e90fcd0 button.colab-df-convert');\n",
              "        buttonEl.style.display =\n",
              "          google.colab.kernel.accessAllowed ? 'block' : 'none';\n",
              "\n",
              "        async function convertToInteractive(key) {\n",
              "          const element = document.querySelector('#df-c5bb6e9a-468a-4463-81cf-e67b7e90fcd0');\n",
              "          const dataTable =\n",
              "            await google.colab.kernel.invokeFunction('convertToInteractive',\n",
              "                                                     [key], {});\n",
              "          if (!dataTable) return;\n",
              "\n",
              "          const docLinkHtml = 'Like what you see? Visit the ' +\n",
              "            '<a target=\"_blank\" href=https://colab.research.google.com/notebooks/data_table.ipynb>data table notebook</a>'\n",
              "            + ' to learn more about interactive tables.';\n",
              "          element.innerHTML = '';\n",
              "          dataTable['output_type'] = 'display_data';\n",
              "          await google.colab.output.renderOutput(dataTable, element);\n",
              "          const docLink = document.createElement('div');\n",
              "          docLink.innerHTML = docLinkHtml;\n",
              "          element.appendChild(docLink);\n",
              "        }\n",
              "      </script>\n",
              "    </div>\n",
              "  </div>\n",
              "  "
            ]
          },
          "metadata": {},
          "execution_count": 13
        }
      ]
    },
    {
      "cell_type": "code",
      "source": [
        "from keras.utils import np_utils\n",
        "Y_output=np_utils.to_categorical(Y.iloc[:,5:],num_classes=len(mapa))\n",
        "\n",
        "Y_output"
      ],
      "metadata": {
        "colab": {
          "base_uri": "https://localhost:8080/"
        },
        "id": "NF9TEyzzXSVK",
        "outputId": "7d69b6f0-604e-426d-a59d-5cec77e3ac3d"
      },
      "execution_count": null,
      "outputs": [
        {
          "output_type": "execute_result",
          "data": {
            "text/plain": [
              "array([[1., 0., 0., ..., 0., 0., 0.],\n",
              "       [1., 0., 0., ..., 0., 0., 0.],\n",
              "       [0., 1., 0., ..., 0., 0., 0.],\n",
              "       ...,\n",
              "       [0., 0., 0., ..., 0., 0., 0.],\n",
              "       [0., 0., 0., ..., 0., 0., 0.],\n",
              "       [0., 0., 0., ..., 0., 0., 0.]], dtype=float32)"
            ]
          },
          "metadata": {},
          "execution_count": 14
        }
      ]
    },
    {
      "cell_type": "markdown",
      "source": [
        "Sprawdzamy jaka jest gęstość danych"
      ],
      "metadata": {
        "id": "a_9aQQKtXWM9"
      }
    },
    {
      "cell_type": "code",
      "source": [
        "sns.heatmap(X.isnull());"
      ],
      "metadata": {
        "colab": {
          "base_uri": "https://localhost:8080/",
          "height": 269
        },
        "id": "VPhAOqO4XVCk",
        "outputId": "6d80684b-66b1-42ab-e7b6-c9beedef5068"
      },
      "execution_count": null,
      "outputs": [
        {
          "output_type": "display_data",
          "data": {
            "text/plain": [
              "<Figure size 432x288 with 2 Axes>"
            ],
            "image/png": "[encoded data removed]"
          },
          "metadata": {
            "needs_background": "light"
          }
        }
      ]
    },
    {
      "cell_type": "markdown",
      "source": [
        "Widzimy, że nasze dane są mocno wybrakowane w kolumnie długości mostu. W tym celu pozwolę sobie użyć drzewa decyzyjnego do przewidywania brakujących danych (dzieje się tu jakaś rzecz związana z meta-modelowaniem). Znalazłem takie rozwiązanie na internecie i w ziązku z małą ilością danych postanowiłem ja zastosować i z analizować wyniki."
      ],
      "metadata": {
        "id": "JEQTur52XekV"
      }
    },
    {
      "cell_type": "code",
      "source": [
        "for x in X:\n",
        "    if X[x].isnull().sum(axis=0) > 0:\n",
        "        \n",
        "        s = X.isnull()\n",
        "        mask1 = s.sum(axis=0)[s.sum(axis=0) == 0].index.to_list()\n",
        "        mask2 = s[x].to_numpy()\n",
        "        \n",
        "        X_train = X.loc[~mask2, mask1]\n",
        "        y_train = X.loc[~mask2, x]\n",
        "        \n",
        "        X_test = X.loc[mask2, mask1]\n",
        "        y_test = X.loc[mask2, x]\n",
        "        \n",
        "        model = DecisionTreeClassifier()\n",
        "        model.fit(X_train, y_train)\n",
        "        y_pred = model.predict(X_test)\n",
        "        \n",
        "        X.loc[y_test.index, x] = y_pred\n",
        "        \n",
        "print(X)\n",
        "sns.heatmap(X.isnull());"
      ],
      "metadata": {
        "colab": {
          "base_uri": "https://localhost:8080/",
          "height": 527
        },
        "id": "giXpT03WXmOK",
        "outputId": "91faf325-0961-4625-e58c-5c586b4ded96"
      },
      "execution_count": null,
      "outputs": [
        {
          "output_type": "stream",
          "name": "stdout",
          "text": [
            "     river  erected  purpose  length  lanes  clear-g\n",
            "0      1.0        0        3     1.0    2.0      0.0\n",
            "1      0.0        0        3     1.0    2.0      0.0\n",
            "2      0.0        0        1     1.0    1.0      0.0\n",
            "3      0.0        0        3     1.0    2.0      0.0\n",
            "4      1.0        0        3     1.0    2.0      0.0\n",
            "..     ...      ...      ...     ...    ...      ...\n",
            "103    0.0        3        3     0.0    6.0      1.0\n",
            "104    3.0        3        3     2.0    6.0      1.0\n",
            "105    1.0        3        3     0.0    6.0      1.0\n",
            "106    3.0        3        3     2.0    2.0      1.0\n",
            "107    0.0        3        3     0.0    4.0      1.0\n",
            "\n",
            "[107 rows x 6 columns]\n"
          ]
        },
        {
          "output_type": "display_data",
          "data": {
            "text/plain": [
              "<Figure size 432x288 with 2 Axes>"
            ],
            "image/png": "[encoded data removed]"
          },
          "metadata": {
            "needs_background": "light"
          }
        }
      ]
    },
    {
      "cell_type": "markdown",
      "source": [
        "#FFNN"
      ],
      "metadata": {
        "id": "pkpezYwcXM9I"
      }
    },
    {
      "cell_type": "markdown",
      "source": [
        "Ponieważ nasz zbiór jest bardzo mały, na zbiór testowy przeznaczamy 20%. Dla 30% wyniki są znacząco gorsze."
      ],
      "metadata": {
        "id": "hKeqTcVrYAk6"
      }
    },
    {
      "cell_type": "code",
      "source": [
        "from sklearn.model_selection import cross_val_score\n",
        "X_train, X_test, y_train, y_test = train_test_split(X, Y_output, test_size=0.20, random_state=42)"
      ],
      "metadata": {
        "id": "jpaWoS33Xwmq"
      },
      "execution_count": null,
      "outputs": []
    },
    {
      "cell_type": "code",
      "source": [
        "train_stats = X_train.describe()\n",
        "train_stats = train_stats.transpose()\n",
        "train_stats"
      ],
      "metadata": {
        "colab": {
          "base_uri": "https://localhost:8080/",
          "height": 237
        },
        "id": "ZmROaDJjYKdA",
        "outputId": "f1018ad3-46fa-49f3-8c79-ef8ec571ca98"
      },
      "execution_count": null,
      "outputs": [
        {
          "output_type": "execute_result",
          "data": {
            "text/plain": [
              "         count      mean       std  min  25%  50%  75%  max\n",
              "river     85.0  0.952941  1.184281  0.0  0.0  1.0  1.0  4.0\n",
              "erected   85.0  1.752941  0.962461  0.0  1.0  2.0  2.0  3.0\n",
              "purpose   85.0  2.576471  0.643215  0.0  2.0  3.0  3.0  3.0\n",
              "length    85.0  1.070588  0.593381  0.0  1.0  1.0  1.0  2.0\n",
              "lanes     85.0  2.529412  1.118973  1.0  2.0  2.0  4.0  6.0\n",
              "clear-g   85.0  0.776471  0.419083  0.0  1.0  1.0  1.0  1.0"
            ],
            "text/html": [
              "\n",
              "  <div id=\"df-b4650c53-ffa9-4c57-8aa9-ae7b2c49a818\">\n",
              "    <div class=\"colab-df-container\">\n",
              "      <div>\n",
              "<style scoped>\n",
              "    .dataframe tbody tr th:only-of-type {\n",
              "        vertical-align: middle;\n",
              "    }\n",
              "\n",
              "    .dataframe tbody tr th {\n",
              "        vertical-align: top;\n",
              "    }\n",
              "\n",
              "    .dataframe thead th {\n",
              "        text-align: right;\n",
              "    }\n",
              "</style>\n",
              "<table border=\"1\" class=\"dataframe\">\n",
              "  <thead>\n",
              "    <tr style=\"text-align: right;\">\n",
              "      <th></th>\n",
              "      <th>count</th>\n",
              "      <th>mean</th>\n",
              "      <th>std</th>\n",
              "      <th>min</th>\n",
              "      <th>25%</th>\n",
              "      <th>50%</th>\n",
              "      <th>75%</th>\n",
              "      <th>max</th>\n",
              "    </tr>\n",
              "  </thead>\n",
              "  <tbody>\n",
              "    <tr>\n",
              "      <th>river</th>\n",
              "      <td>85.0</td>\n",
              "      <td>0.952941</td>\n",
              "      <td>1.184281</td>\n",
              "      <td>0.0</td>\n",
              "      <td>0.0</td>\n",
              "      <td>1.0</td>\n",
              "      <td>1.0</td>\n",
              "      <td>4.0</td>\n",
              "    </tr>\n",
              "    <tr>\n",
              "      <th>erected</th>\n",
              "      <td>85.0</td>\n",
              "      <td>1.752941</td>\n",
              "      <td>0.962461</td>\n",
              "      <td>0.0</td>\n",
              "      <td>1.0</td>\n",
              "      <td>2.0</td>\n",
              "      <td>2.0</td>\n",
              "      <td>3.0</td>\n",
              "    </tr>\n",
              "    <tr>\n",
              "      <th>purpose</th>\n",
              "      <td>85.0</td>\n",
              "      <td>2.576471</td>\n",
              "      <td>0.643215</td>\n",
              "      <td>0.0</td>\n",
              "      <td>2.0</td>\n",
              "      <td>3.0</td>\n",
              "      <td>3.0</td>\n",
              "      <td>3.0</td>\n",
              "    </tr>\n",
              "    <tr>\n",
              "      <th>length</th>\n",
              "      <td>85.0</td>\n",
              "      <td>1.070588</td>\n",
              "      <td>0.593381</td>\n",
              "      <td>0.0</td>\n",
              "      <td>1.0</td>\n",
              "      <td>1.0</td>\n",
              "      <td>1.0</td>\n",
              "      <td>2.0</td>\n",
              "    </tr>\n",
              "    <tr>\n",
              "      <th>lanes</th>\n",
              "      <td>85.0</td>\n",
              "      <td>2.529412</td>\n",
              "      <td>1.118973</td>\n",
              "      <td>1.0</td>\n",
              "      <td>2.0</td>\n",
              "      <td>2.0</td>\n",
              "      <td>4.0</td>\n",
              "      <td>6.0</td>\n",
              "    </tr>\n",
              "    <tr>\n",
              "      <th>clear-g</th>\n",
              "      <td>85.0</td>\n",
              "      <td>0.776471</td>\n",
              "      <td>0.419083</td>\n",
              "      <td>0.0</td>\n",
              "      <td>1.0</td>\n",
              "      <td>1.0</td>\n",
              "      <td>1.0</td>\n",
              "      <td>1.0</td>\n",
              "    </tr>\n",
              "  </tbody>\n",
              "</table>\n",
              "</div>\n",
              "      <button class=\"colab-df-convert\" onclick=\"convertToInteractive('df-b4650c53-ffa9-4c57-8aa9-ae7b2c49a818')\"\n",
              "              title=\"Convert this dataframe to an interactive table.\"\n",
              "              style=\"display:none;\">\n",
              "        \n",
              "  <svg xmlns=\"http://www.w3.org/2000/svg\" height=\"24px\"viewBox=\"0 0 24 24\"\n",
              "       width=\"24px\">\n",
              "    <path d=\"M0 0h24v24H0V0z\" fill=\"none\"/>\n",
              "    <path d=\"M18.56 5.44l.94 2.06.94-2.06 2.06-.94-2.06-.94-.94-2.06-.94 2.06-2.06.94zm-11 1L8.5 8.5l.94-2.06 2.06-.94-2.06-.94L8.5 2.5l-.94 2.06-2.06.94zm10 10l.94 2.06.94-2.06 2.06-.94-2.06-.94-.94-2.06-.94 2.06-2.06.94z\"/><path d=\"M17.41 7.96l-1.37-1.37c-.4-.4-.92-.59-1.43-.59-.52 0-1.04.2-1.43.59L10.3 9.45l-7.72 7.72c-.78.78-.78 2.05 0 2.83L4 21.41c.39.39.9.59 1.41.59.51 0 1.02-.2 1.41-.59l7.78-7.78 2.81-2.81c.8-.78.8-2.07 0-2.86zM5.41 20L4 18.59l7.72-7.72 1.47 1.35L5.41 20z\"/>\n",
              "  </svg>\n",
              "      </button>\n",
              "      \n",
              "  <style>\n",
              "    .colab-df-container {\n",
              "      display:flex;\n",
              "      flex-wrap:wrap;\n",
              "      gap: 12px;\n",
              "    }\n",
              "\n",
              "    .colab-df-convert {\n",
              "      background-color: #E8F0FE;\n",
              "      border: none;\n",
              "      border-radius: 50%;\n",
              "      cursor: pointer;\n",
              "      display: none;\n",
              "      fill: #1967D2;\n",
              "      height: 32px;\n",
              "      padding: 0 0 0 0;\n",
              "      width: 32px;\n",
              "    }\n",
              "\n",
              "    .colab-df-convert:hover {\n",
              "      background-color: #E2EBFA;\n",
              "      box-shadow: 0px 1px 2px rgba(60, 64, 67, 0.3), 0px 1px 3px 1px rgba(60, 64, 67, 0.15);\n",
              "      fill: #174EA6;\n",
              "    }\n",
              "\n",
              "    [theme=dark] .colab-df-convert {\n",
              "      background-color: #3B4455;\n",
              "      fill: #D2E3FC;\n",
              "    }\n",
              "\n",
              "    [theme=dark] .colab-df-convert:hover {\n",
              "      background-color: #434B5C;\n",
              "      box-shadow: 0px 1px 3px 1px rgba(0, 0, 0, 0.15);\n",
              "      filter: drop-shadow(0px 1px 2px rgba(0, 0, 0, 0.3));\n",
              "      fill: #FFFFFF;\n",
              "    }\n",
              "  </style>\n",
              "\n",
              "      <script>\n",
              "        const buttonEl =\n",
              "          document.querySelector('#df-b4650c53-ffa9-4c57-8aa9-ae7b2c49a818 button.colab-df-convert');\n",
              "        buttonEl.style.display =\n",
              "          google.colab.kernel.accessAllowed ? 'block' : 'none';\n",
              "\n",
              "        async function convertToInteractive(key) {\n",
              "          const element = document.querySelector('#df-b4650c53-ffa9-4c57-8aa9-ae7b2c49a818');\n",
              "          const dataTable =\n",
              "            await google.colab.kernel.invokeFunction('convertToInteractive',\n",
              "                                                     [key], {});\n",
              "          if (!dataTable) return;\n",
              "\n",
              "          const docLinkHtml = 'Like what you see? Visit the ' +\n",
              "            '<a target=\"_blank\" href=https://colab.research.google.com/notebooks/data_table.ipynb>data table notebook</a>'\n",
              "            + ' to learn more about interactive tables.';\n",
              "          element.innerHTML = '';\n",
              "          dataTable['output_type'] = 'display_data';\n",
              "          await google.colab.output.renderOutput(dataTable, element);\n",
              "          const docLink = document.createElement('div');\n",
              "          docLink.innerHTML = docLinkHtml;\n",
              "          element.appendChild(docLink);\n",
              "        }\n",
              "      </script>\n",
              "    </div>\n",
              "  </div>\n",
              "  "
            ]
          },
          "metadata": {},
          "execution_count": 18
        }
      ]
    },
    {
      "cell_type": "code",
      "source": [
        "# Chciałem użyć normalizacji dancyh biorąc pod uwagę ich statystyki ale tylko zminiejasz to skuteczność modelu\n",
        "\n",
        "# def norm(x):\n",
        "#     return (x - train_stats['mean']) / train_stats['std']\n",
        "# norm_train_X = np.array(norm(X_train))\n",
        "# norm_test_X = np.array(norm(X_test))\n",
        "# norm_val_X = np.array(norm(X_val))\n",
        "# norm_val_X\n",
        "# norm_test_X"
      ],
      "metadata": {
        "id": "pjEdyTouYQiq"
      },
      "execution_count": null,
      "outputs": []
    },
    {
      "cell_type": "markdown",
      "source": [
        "Tworzę model z przykładu z irysami zmieniam wymiar inputów i liczbę nuronów"
      ],
      "metadata": {
        "id": "MB_mFBpYYcjF"
      }
    },
    {
      "cell_type": "code",
      "source": [
        "import math\n",
        "import pandas as pd\n",
        "from keras.models import Sequential \n",
        "from keras.layers import Dense,Activation,Dropout \n",
        "import numpy as np\n",
        "import random\n",
        "from sklearn import model_selection, preprocessing\n",
        "import tensorflow as tf\n",
        "from tqdm import tqdm\n",
        "import matplotlib.pyplot as plt\n",
        "from keras.utils import np_utils\n",
        "hidden_units = 10     # how many neurons in the hidden layer\n",
        "activation = 'relu'   # activation function for hidden layer\n",
        "l2 = 0.01             # regularization - how much we penalize large parameter values\n",
        "learning_rate = 0.01  # how big our steps are in gradient descent\n",
        "epochs = 20         # how many epochs to train for\n",
        "batch_size = 16       # how many samples to use for each gradient descent update\n",
        "\n",
        "# Initialising the ANN\n",
        "model = Sequential()\n",
        "\n",
        "# Adding the input layer and the first hidden layer\n",
        "model.add(Dense(20,input_dim=6,activation='relu'))\n",
        "model.add(Dense(50,activation='relu'))\n",
        "\n",
        "#Protects against overfitting\n",
        "model.add(Dropout(0.2))\n",
        "\n",
        "# Adding the output layer\n",
        "model.add(Dense(len(mapa),activation='softmax'))\n",
        "\n",
        "# Compiling the ANN\n",
        "model.compile(loss='categorical_crossentropy',optimizer='adam',metrics=['accuracy'])"
      ],
      "metadata": {
        "id": "1VKvUgocYe2W"
      },
      "execution_count": null,
      "outputs": []
    },
    {
      "cell_type": "code",
      "source": [
        "history = model.fit(X_train, y_train,\n",
        "   epochs=100, batch_size=10,verbose=1, validation_data=(X_test, y_test))"
      ],
      "metadata": {
        "colab": {
          "base_uri": "https://localhost:8080/"
        },
        "id": "OM5GHjAdYjMu",
        "outputId": "67b0595b-c6fe-454f-c879-66ed7b223d39"
      },
      "execution_count": null,
      "outputs": [
        {
          "output_type": "stream",
          "name": "stdout",
          "text": [
            "Epoch 1/100\n",
            "9/9 [==============================] - 1s 36ms/step - loss: 3.3853 - accuracy: 0.0706 - val_loss: 3.3912 - val_accuracy: 0.0000e+00\n",
            "Epoch 2/100\n",
            "9/9 [==============================] - 0s 7ms/step - loss: 3.3190 - accuracy: 0.0706 - val_loss: 3.3566 - val_accuracy: 0.0000e+00\n",
            "Epoch 3/100\n",
            "9/9 [==============================] - 0s 6ms/step - loss: 3.2734 - accuracy: 0.1059 - val_loss: 3.3207 - val_accuracy: 0.0909\n",
            "Epoch 4/100\n",
            "9/9 [==============================] - 0s 6ms/step - loss: 3.2551 - accuracy: 0.1529 - val_loss: 3.2832 - val_accuracy: 0.2273\n",
            "Epoch 5/100\n",
            "9/9 [==============================] - 0s 5ms/step - loss: 3.2172 - accuracy: 0.1647 - val_loss: 3.2465 - val_accuracy: 0.1364\n",
            "Epoch 6/100\n",
            "9/9 [==============================] - 0s 6ms/step - loss: 3.1342 - accuracy: 0.2000 - val_loss: 3.2089 - val_accuracy: 0.1818\n",
            "Epoch 7/100\n",
            "9/9 [==============================] - 0s 8ms/step - loss: 3.1049 - accuracy: 0.1647 - val_loss: 3.1632 - val_accuracy: 0.1818\n",
            "Epoch 8/100\n",
            "9/9 [==============================] - 0s 8ms/step - loss: 3.0429 - accuracy: 0.1882 - val_loss: 3.1209 - val_accuracy: 0.1364\n",
            "Epoch 9/100\n",
            "9/9 [==============================] - 0s 6ms/step - loss: 3.0043 - accuracy: 0.2118 - val_loss: 3.0753 - val_accuracy: 0.1364\n",
            "Epoch 10/100\n",
            "9/9 [==============================] - 0s 8ms/step - loss: 2.9046 - accuracy: 0.1882 - val_loss: 3.0378 - val_accuracy: 0.1364\n",
            "Epoch 11/100\n",
            "9/9 [==============================] - 0s 5ms/step - loss: 2.8583 - accuracy: 0.2118 - val_loss: 3.0081 - val_accuracy: 0.1364\n",
            "Epoch 12/100\n",
            "9/9 [==============================] - 0s 7ms/step - loss: 2.7852 - accuracy: 0.2353 - val_loss: 2.9932 - val_accuracy: 0.1364\n",
            "Epoch 13/100\n",
            "9/9 [==============================] - 0s 8ms/step - loss: 2.7664 - accuracy: 0.2235 - val_loss: 2.9754 - val_accuracy: 0.1364\n",
            "Epoch 14/100\n",
            "9/9 [==============================] - 0s 5ms/step - loss: 2.7202 - accuracy: 0.2235 - val_loss: 2.9614 - val_accuracy: 0.1364\n",
            "Epoch 15/100\n",
            "9/9 [==============================] - 0s 6ms/step - loss: 2.7198 - accuracy: 0.2000 - val_loss: 2.9526 - val_accuracy: 0.1364\n",
            "Epoch 16/100\n",
            "9/9 [==============================] - 0s 7ms/step - loss: 2.7013 - accuracy: 0.2471 - val_loss: 2.9430 - val_accuracy: 0.1818\n",
            "Epoch 17/100\n",
            "9/9 [==============================] - 0s 7ms/step - loss: 2.5961 - accuracy: 0.2471 - val_loss: 2.9224 - val_accuracy: 0.2727\n",
            "Epoch 18/100\n",
            "9/9 [==============================] - 0s 6ms/step - loss: 2.5722 - accuracy: 0.2471 - val_loss: 2.9076 - val_accuracy: 0.3182\n",
            "Epoch 19/100\n",
            "9/9 [==============================] - 0s 8ms/step - loss: 2.5940 - accuracy: 0.2471 - val_loss: 2.8959 - val_accuracy: 0.3182\n",
            "Epoch 20/100\n",
            "9/9 [==============================] - 0s 5ms/step - loss: 2.5075 - accuracy: 0.2588 - val_loss: 2.8805 - val_accuracy: 0.3182\n",
            "Epoch 21/100\n",
            "9/9 [==============================] - 0s 6ms/step - loss: 2.5298 - accuracy: 0.2471 - val_loss: 2.8599 - val_accuracy: 0.3182\n",
            "Epoch 22/100\n",
            "9/9 [==============================] - 0s 6ms/step - loss: 2.5413 - accuracy: 0.2471 - val_loss: 2.8418 - val_accuracy: 0.3636\n",
            "Epoch 23/100\n",
            "9/9 [==============================] - 0s 5ms/step - loss: 2.4418 - accuracy: 0.2824 - val_loss: 2.8325 - val_accuracy: 0.3636\n",
            "Epoch 24/100\n",
            "9/9 [==============================] - 0s 6ms/step - loss: 2.4331 - accuracy: 0.2588 - val_loss: 2.8117 - val_accuracy: 0.4091\n",
            "Epoch 25/100\n",
            "9/9 [==============================] - 0s 8ms/step - loss: 2.4851 - accuracy: 0.2118 - val_loss: 2.7963 - val_accuracy: 0.4091\n",
            "Epoch 26/100\n",
            "9/9 [==============================] - 0s 6ms/step - loss: 2.3872 - accuracy: 0.2706 - val_loss: 2.7800 - val_accuracy: 0.4091\n",
            "Epoch 27/100\n",
            "9/9 [==============================] - 0s 6ms/step - loss: 2.3313 - accuracy: 0.2588 - val_loss: 2.7696 - val_accuracy: 0.4091\n",
            "Epoch 28/100\n",
            "9/9 [==============================] - 0s 6ms/step - loss: 2.3427 - accuracy: 0.2824 - val_loss: 2.7599 - val_accuracy: 0.4091\n",
            "Epoch 29/100\n",
            "9/9 [==============================] - 0s 7ms/step - loss: 2.3051 - accuracy: 0.2941 - val_loss: 2.7602 - val_accuracy: 0.4091\n",
            "Epoch 30/100\n",
            "9/9 [==============================] - 0s 8ms/step - loss: 2.2564 - accuracy: 0.3059 - val_loss: 2.7521 - val_accuracy: 0.4091\n",
            "Epoch 31/100\n",
            "9/9 [==============================] - 0s 6ms/step - loss: 2.2196 - accuracy: 0.2941 - val_loss: 2.7478 - val_accuracy: 0.4091\n",
            "Epoch 32/100\n",
            "9/9 [==============================] - 0s 8ms/step - loss: 2.2790 - accuracy: 0.2824 - val_loss: 2.7445 - val_accuracy: 0.4091\n",
            "Epoch 33/100\n",
            "9/9 [==============================] - 0s 6ms/step - loss: 2.1932 - accuracy: 0.3059 - val_loss: 2.7503 - val_accuracy: 0.4091\n",
            "Epoch 34/100\n",
            "9/9 [==============================] - 0s 6ms/step - loss: 2.1820 - accuracy: 0.3176 - val_loss: 2.7577 - val_accuracy: 0.4091\n",
            "Epoch 35/100\n",
            "9/9 [==============================] - 0s 6ms/step - loss: 2.1469 - accuracy: 0.3412 - val_loss: 2.7574 - val_accuracy: 0.4091\n",
            "Epoch 36/100\n",
            "9/9 [==============================] - 0s 6ms/step - loss: 2.1584 - accuracy: 0.3176 - val_loss: 2.7577 - val_accuracy: 0.4091\n",
            "Epoch 37/100\n",
            "9/9 [==============================] - 0s 8ms/step - loss: 2.1318 - accuracy: 0.2941 - val_loss: 2.7538 - val_accuracy: 0.4091\n",
            "Epoch 38/100\n",
            "9/9 [==============================] - 0s 6ms/step - loss: 2.1207 - accuracy: 0.3529 - val_loss: 2.7448 - val_accuracy: 0.4091\n",
            "Epoch 39/100\n",
            "9/9 [==============================] - 0s 6ms/step - loss: 2.1709 - accuracy: 0.2941 - val_loss: 2.7445 - val_accuracy: 0.3636\n",
            "Epoch 40/100\n",
            "9/9 [==============================] - 0s 6ms/step - loss: 2.0943 - accuracy: 0.3529 - val_loss: 2.7523 - val_accuracy: 0.3636\n",
            "Epoch 41/100\n",
            "9/9 [==============================] - 0s 5ms/step - loss: 2.1051 - accuracy: 0.3412 - val_loss: 2.7309 - val_accuracy: 0.3636\n",
            "Epoch 42/100\n",
            "9/9 [==============================] - 0s 5ms/step - loss: 2.0845 - accuracy: 0.3412 - val_loss: 2.7355 - val_accuracy: 0.3636\n",
            "Epoch 43/100\n",
            "9/9 [==============================] - 0s 6ms/step - loss: 2.0076 - accuracy: 0.3412 - val_loss: 2.7422 - val_accuracy: 0.3636\n",
            "Epoch 44/100\n",
            "9/9 [==============================] - 0s 8ms/step - loss: 2.0426 - accuracy: 0.2941 - val_loss: 2.7576 - val_accuracy: 0.3636\n",
            "Epoch 45/100\n",
            "9/9 [==============================] - 0s 8ms/step - loss: 1.9829 - accuracy: 0.3176 - val_loss: 2.7523 - val_accuracy: 0.3636\n",
            "Epoch 46/100\n",
            "9/9 [==============================] - 0s 8ms/step - loss: 1.9350 - accuracy: 0.4118 - val_loss: 2.7503 - val_accuracy: 0.3636\n",
            "Epoch 47/100\n",
            "9/9 [==============================] - 0s 8ms/step - loss: 1.9438 - accuracy: 0.3529 - val_loss: 2.7441 - val_accuracy: 0.3636\n",
            "Epoch 48/100\n",
            "9/9 [==============================] - 0s 9ms/step - loss: 1.9466 - accuracy: 0.3529 - val_loss: 2.7535 - val_accuracy: 0.3636\n",
            "Epoch 49/100\n",
            "9/9 [==============================] - 0s 7ms/step - loss: 1.9370 - accuracy: 0.3059 - val_loss: 2.7467 - val_accuracy: 0.3636\n",
            "Epoch 50/100\n",
            "9/9 [==============================] - 0s 5ms/step - loss: 1.9734 - accuracy: 0.3176 - val_loss: 2.7494 - val_accuracy: 0.3636\n",
            "Epoch 51/100\n",
            "9/9 [==============================] - 0s 5ms/step - loss: 1.9508 - accuracy: 0.3294 - val_loss: 2.7603 - val_accuracy: 0.3636\n",
            "Epoch 52/100\n",
            "9/9 [==============================] - 0s 8ms/step - loss: 1.9487 - accuracy: 0.3294 - val_loss: 2.7668 - val_accuracy: 0.3636\n",
            "Epoch 53/100\n",
            "9/9 [==============================] - 0s 5ms/step - loss: 1.8936 - accuracy: 0.3412 - val_loss: 2.7792 - val_accuracy: 0.3636\n",
            "Epoch 54/100\n",
            "9/9 [==============================] - 0s 7ms/step - loss: 1.8806 - accuracy: 0.3765 - val_loss: 2.7839 - val_accuracy: 0.3636\n",
            "Epoch 55/100\n",
            "9/9 [==============================] - 0s 6ms/step - loss: 1.8732 - accuracy: 0.4000 - val_loss: 2.7808 - val_accuracy: 0.3636\n",
            "Epoch 56/100\n",
            "9/9 [==============================] - 0s 8ms/step - loss: 1.8942 - accuracy: 0.3059 - val_loss: 2.7810 - val_accuracy: 0.3636\n",
            "Epoch 57/100\n",
            "9/9 [==============================] - 0s 8ms/step - loss: 1.8642 - accuracy: 0.3647 - val_loss: 2.7976 - val_accuracy: 0.3636\n",
            "Epoch 58/100\n",
            "9/9 [==============================] - 0s 7ms/step - loss: 1.8078 - accuracy: 0.4588 - val_loss: 2.8015 - val_accuracy: 0.3636\n",
            "Epoch 59/100\n",
            "9/9 [==============================] - 0s 6ms/step - loss: 1.7686 - accuracy: 0.4000 - val_loss: 2.8080 - val_accuracy: 0.3182\n",
            "Epoch 60/100\n",
            "9/9 [==============================] - 0s 6ms/step - loss: 1.8028 - accuracy: 0.4000 - val_loss: 2.7890 - val_accuracy: 0.3636\n",
            "Epoch 61/100\n",
            "9/9 [==============================] - 0s 8ms/step - loss: 1.8307 - accuracy: 0.3412 - val_loss: 2.7927 - val_accuracy: 0.3182\n",
            "Epoch 62/100\n",
            "9/9 [==============================] - 0s 6ms/step - loss: 1.7813 - accuracy: 0.4118 - val_loss: 2.8100 - val_accuracy: 0.3182\n",
            "Epoch 63/100\n",
            "9/9 [==============================] - 0s 8ms/step - loss: 1.7887 - accuracy: 0.4353 - val_loss: 2.8081 - val_accuracy: 0.3182\n",
            "Epoch 64/100\n",
            "9/9 [==============================] - 0s 8ms/step - loss: 1.6967 - accuracy: 0.4588 - val_loss: 2.8154 - val_accuracy: 0.3182\n",
            "Epoch 65/100\n",
            "9/9 [==============================] - 0s 9ms/step - loss: 1.7694 - accuracy: 0.4118 - val_loss: 2.8287 - val_accuracy: 0.3636\n",
            "Epoch 66/100\n",
            "9/9 [==============================] - 0s 6ms/step - loss: 1.6520 - accuracy: 0.3765 - val_loss: 2.8103 - val_accuracy: 0.3182\n",
            "Epoch 67/100\n",
            "9/9 [==============================] - 0s 8ms/step - loss: 1.6846 - accuracy: 0.4706 - val_loss: 2.8050 - val_accuracy: 0.3182\n",
            "Epoch 68/100\n",
            "9/9 [==============================] - 0s 8ms/step - loss: 1.6978 - accuracy: 0.4588 - val_loss: 2.8039 - val_accuracy: 0.3182\n",
            "Epoch 69/100\n",
            "9/9 [==============================] - 0s 5ms/step - loss: 1.7138 - accuracy: 0.4000 - val_loss: 2.8104 - val_accuracy: 0.3182\n",
            "Epoch 70/100\n",
            "9/9 [==============================] - 0s 6ms/step - loss: 1.5972 - accuracy: 0.4706 - val_loss: 2.8352 - val_accuracy: 0.3182\n",
            "Epoch 71/100\n",
            "9/9 [==============================] - 0s 6ms/step - loss: 1.7360 - accuracy: 0.4000 - val_loss: 2.8454 - val_accuracy: 0.3182\n",
            "Epoch 72/100\n",
            "9/9 [==============================] - 0s 6ms/step - loss: 1.6475 - accuracy: 0.4235 - val_loss: 2.8403 - val_accuracy: 0.3182\n",
            "Epoch 73/100\n",
            "9/9 [==============================] - 0s 6ms/step - loss: 1.6304 - accuracy: 0.4353 - val_loss: 2.8313 - val_accuracy: 0.3182\n",
            "Epoch 74/100\n",
            "9/9 [==============================] - 0s 6ms/step - loss: 1.7155 - accuracy: 0.4235 - val_loss: 2.8298 - val_accuracy: 0.3182\n",
            "Epoch 75/100\n",
            "9/9 [==============================] - 0s 5ms/step - loss: 1.6513 - accuracy: 0.4118 - val_loss: 2.8448 - val_accuracy: 0.3182\n",
            "Epoch 76/100\n",
            "9/9 [==============================] - 0s 8ms/step - loss: 1.6868 - accuracy: 0.3765 - val_loss: 2.8497 - val_accuracy: 0.3182\n",
            "Epoch 77/100\n",
            "9/9 [==============================] - 0s 7ms/step - loss: 1.6569 - accuracy: 0.4353 - val_loss: 2.8432 - val_accuracy: 0.3182\n",
            "Epoch 78/100\n",
            "9/9 [==============================] - 0s 6ms/step - loss: 1.6542 - accuracy: 0.4235 - val_loss: 2.8466 - val_accuracy: 0.3182\n",
            "Epoch 79/100\n",
            "9/9 [==============================] - 0s 6ms/step - loss: 1.6053 - accuracy: 0.4118 - val_loss: 2.8606 - val_accuracy: 0.3182\n",
            "Epoch 80/100\n",
            "9/9 [==============================] - 0s 6ms/step - loss: 1.6045 - accuracy: 0.4706 - val_loss: 2.8694 - val_accuracy: 0.3182\n",
            "Epoch 81/100\n",
            "9/9 [==============================] - 0s 7ms/step - loss: 1.6085 - accuracy: 0.4471 - val_loss: 2.8814 - val_accuracy: 0.2273\n",
            "Epoch 82/100\n",
            "9/9 [==============================] - 0s 8ms/step - loss: 1.6444 - accuracy: 0.4000 - val_loss: 2.8801 - val_accuracy: 0.2273\n",
            "Epoch 83/100\n",
            "9/9 [==============================] - 0s 8ms/step - loss: 1.5615 - accuracy: 0.4588 - val_loss: 2.8791 - val_accuracy: 0.2273\n",
            "Epoch 84/100\n",
            "9/9 [==============================] - 0s 7ms/step - loss: 1.5862 - accuracy: 0.4471 - val_loss: 2.8647 - val_accuracy: 0.2273\n",
            "Epoch 85/100\n",
            "9/9 [==============================] - 0s 6ms/step - loss: 1.6607 - accuracy: 0.4353 - val_loss: 2.8645 - val_accuracy: 0.2273\n",
            "Epoch 86/100\n",
            "9/9 [==============================] - 0s 7ms/step - loss: 1.5269 - accuracy: 0.4824 - val_loss: 2.8539 - val_accuracy: 0.2273\n",
            "Epoch 87/100\n",
            "9/9 [==============================] - 0s 5ms/step - loss: 1.5198 - accuracy: 0.4471 - val_loss: 2.8541 - val_accuracy: 0.2273\n",
            "Epoch 88/100\n",
            "9/9 [==============================] - 0s 5ms/step - loss: 1.5344 - accuracy: 0.4235 - val_loss: 2.8617 - val_accuracy: 0.2273\n",
            "Epoch 89/100\n",
            "9/9 [==============================] - 0s 8ms/step - loss: 1.5903 - accuracy: 0.4588 - val_loss: 2.8732 - val_accuracy: 0.2273\n",
            "Epoch 90/100\n",
            "9/9 [==============================] - 0s 8ms/step - loss: 1.4341 - accuracy: 0.5529 - val_loss: 2.8976 - val_accuracy: 0.3182\n",
            "Epoch 91/100\n",
            "9/9 [==============================] - 0s 5ms/step - loss: 1.4508 - accuracy: 0.4235 - val_loss: 2.9066 - val_accuracy: 0.2273\n",
            "Epoch 92/100\n",
            "9/9 [==============================] - 0s 7ms/step - loss: 1.4957 - accuracy: 0.4941 - val_loss: 2.9099 - val_accuracy: 0.2273\n",
            "Epoch 93/100\n",
            "9/9 [==============================] - 0s 7ms/step - loss: 1.5007 - accuracy: 0.4471 - val_loss: 2.9291 - val_accuracy: 0.2273\n",
            "Epoch 94/100\n",
            "9/9 [==============================] - 0s 8ms/step - loss: 1.5122 - accuracy: 0.4588 - val_loss: 2.9564 - val_accuracy: 0.2273\n",
            "Epoch 95/100\n",
            "9/9 [==============================] - 0s 6ms/step - loss: 1.4234 - accuracy: 0.5176 - val_loss: 2.9459 - val_accuracy: 0.2273\n",
            "Epoch 96/100\n",
            "9/9 [==============================] - 0s 8ms/step - loss: 1.4781 - accuracy: 0.4588 - val_loss: 2.9438 - val_accuracy: 0.2727\n",
            "Epoch 97/100\n",
            "9/9 [==============================] - 0s 6ms/step - loss: 1.3957 - accuracy: 0.5647 - val_loss: 2.9637 - val_accuracy: 0.2727\n",
            "Epoch 98/100\n",
            "9/9 [==============================] - 0s 7ms/step - loss: 1.4737 - accuracy: 0.4824 - val_loss: 2.9802 - val_accuracy: 0.2727\n",
            "Epoch 99/100\n",
            "9/9 [==============================] - 0s 7ms/step - loss: 1.4201 - accuracy: 0.4941 - val_loss: 2.9825 - val_accuracy: 0.2727\n",
            "Epoch 100/100\n",
            "9/9 [==============================] - 0s 7ms/step - loss: 1.3909 - accuracy: 0.4588 - val_loss: 2.9843 - val_accuracy: 0.2727\n"
          ]
        }
      ]
    },
    {
      "cell_type": "code",
      "source": [
        "def accuracy_plot(historyX): \n",
        "  print(historyX.history.keys())\n",
        "  # accuracy\n",
        "  plt.plot(historyX.history['accuracy'])\n",
        "  plt.plot(historyX.history['val_accuracy'])\n",
        "  plt.title('model accuracy')\n",
        "  plt.ylabel('accuracy')\n",
        "  plt.xlabel('epoch')\n",
        "  plt.legend(['train', 'test'], loc='upper left')\n",
        "  plt.show()\n",
        "  #loss\n",
        "  plt.plot(historyX.history['loss'])\n",
        "  plt.plot(historyX.history['val_loss'])\n",
        "  plt.title('model loss')\n",
        "  plt.ylabel('loss')\n",
        "  plt.xlabel('epoch')\n",
        "  plt.legend(['train', 'test'], loc='upper left')\n",
        "  plt.show()\n",
        "\n",
        "accuracy_plot(history)"
      ],
      "metadata": {
        "colab": {
          "base_uri": "https://localhost:8080/",
          "height": 591
        },
        "id": "iV8-JqMDYnN1",
        "outputId": "6983b86b-70f5-4bee-abaf-d56dcafe11ff"
      },
      "execution_count": null,
      "outputs": [
        {
          "output_type": "stream",
          "name": "stdout",
          "text": [
            "dict_keys(['loss', 'accuracy', 'val_loss', 'val_accuracy'])\n"
          ]
        },
        {
          "output_type": "display_data",
          "data": {
            "text/plain": [
              "<Figure size 432x288 with 1 Axes>"
            ],
            "image/png": "[encoded data removed]"
          },
          "metadata": {
            "needs_background": "light"
          }
        },
        {
          "output_type": "display_data",
          "data": {
            "text/plain": [
              "<Figure size 432x288 with 1 Axes>"
            ],
            "image/png": "[encoded data removed]"
          },
          "metadata": {
            "needs_background": "light"
          }
        }
      ]
    },
    {
      "cell_type": "markdown",
      "source": [
        "Walidacja precyzji modelu"
      ],
      "metadata": {
        "id": "DC4iBs3NZXcT"
      }
    },
    {
      "cell_type": "code",
      "source": [
        "# Predicting the Test set results\n",
        "y_pred = model.predict(X_test)\n",
        "y_pred = (y_pred > 0.5)\n",
        "\n",
        "prediction=model.predict(X_test)\n",
        "length=len(prediction)\n",
        "y_label=np.argmax(y_test,axis=1)\n",
        "predict_label=np.argmax(prediction,axis=1)\n",
        "#how times it matched/ how many test cases\n",
        "accuracy=np.sum(y_label==predict_label)/length * 100 \n",
        "print(\"Accuracy of the dataset\",accuracy )"
      ],
      "metadata": {
        "colab": {
          "base_uri": "https://localhost:8080/"
        },
        "id": "1aMK-X3NYzN3",
        "outputId": "27668cf2-719b-4599-f7c3-9fdd408123dd"
      },
      "execution_count": null,
      "outputs": [
        {
          "output_type": "stream",
          "name": "stdout",
          "text": [
            "1/1 [==============================] - 0s 131ms/step\n",
            "1/1 [==============================] - 0s 21ms/step\n",
            "Accuracy of the dataset 27.27272727272727\n"
          ]
        }
      ]
    },
    {
      "cell_type": "markdown",
      "source": [
        "Po wielu próbach wybrałem najlepsze paramaterty dla sieci."
      ],
      "metadata": {
        "id": "yP9-QpKlZqZB"
      }
    },
    {
      "cell_type": "code",
      "source": [
        "model = Sequential()\n",
        "\n",
        "# Adding the input layer and the first hidden layer\n",
        "model.add(Dense(20,input_dim=6,activation='relu'))\n",
        "model.add(Dense(50,activation='relu'))\n",
        "\n",
        "#Protects against overfitting\n",
        "model.add(Dropout(0.2))\n",
        "\n",
        "# Adding the output layer\n",
        "model.add(Dense(len(mapa),activation='sigmoid'))\n",
        "\n",
        "# Compiling the ANN\n",
        "model.compile(loss='binary_crossentropy',optimizer='nadam',metrics=['accuracy'])"
      ],
      "metadata": {
        "id": "w0XOfqbaZhnz"
      },
      "execution_count": null,
      "outputs": []
    },
    {
      "cell_type": "code",
      "source": [
        "history = model.fit(X_train, y_train,\n",
        "   epochs=100, batch_size=10,verbose=1, validation_data=(X_test, y_test))"
      ],
      "metadata": {
        "colab": {
          "base_uri": "https://localhost:8080/"
        },
        "id": "GFQudi5eZvQv",
        "outputId": "5569a28f-b745-4cf8-82e3-068c231509e1"
      },
      "execution_count": null,
      "outputs": [
        {
          "output_type": "stream",
          "name": "stdout",
          "text": [
            "Epoch 1/100\n",
            "9/9 [==============================] - 1s 28ms/step - loss: 0.7406 - accuracy: 0.0471 - val_loss: 0.6929 - val_accuracy: 0.0909\n",
            "Epoch 2/100\n",
            "9/9 [==============================] - 0s 6ms/step - loss: 0.6683 - accuracy: 0.0588 - val_loss: 0.6163 - val_accuracy: 0.0909\n",
            "Epoch 3/100\n",
            "9/9 [==============================] - 0s 6ms/step - loss: 0.5967 - accuracy: 0.0588 - val_loss: 0.5473 - val_accuracy: 0.0455\n",
            "Epoch 4/100\n",
            "9/9 [==============================] - 0s 5ms/step - loss: 0.5309 - accuracy: 0.0706 - val_loss: 0.4790 - val_accuracy: 0.0000e+00\n",
            "Epoch 5/100\n",
            "9/9 [==============================] - 0s 5ms/step - loss: 0.4553 - accuracy: 0.0471 - val_loss: 0.4089 - val_accuracy: 0.0000e+00\n",
            "Epoch 6/100\n",
            "9/9 [==============================] - 0s 6ms/step - loss: 0.3898 - accuracy: 0.0588 - val_loss: 0.3408 - val_accuracy: 0.0000e+00\n",
            "Epoch 7/100\n",
            "9/9 [==============================] - 0s 9ms/step - loss: 0.3305 - accuracy: 0.0588 - val_loss: 0.2823 - val_accuracy: 0.0000e+00\n",
            "Epoch 8/100\n",
            "9/9 [==============================] - 0s 6ms/step - loss: 0.2828 - accuracy: 0.0824 - val_loss: 0.2366 - val_accuracy: 0.0000e+00\n",
            "Epoch 9/100\n",
            "9/9 [==============================] - 0s 6ms/step - loss: 0.2412 - accuracy: 0.0353 - val_loss: 0.2038 - val_accuracy: 0.0000e+00\n",
            "Epoch 10/100\n",
            "9/9 [==============================] - 0s 8ms/step - loss: 0.2148 - accuracy: 0.0471 - val_loss: 0.1828 - val_accuracy: 0.0455\n",
            "Epoch 11/100\n",
            "9/9 [==============================] - 0s 8ms/step - loss: 0.1984 - accuracy: 0.0824 - val_loss: 0.1699 - val_accuracy: 0.0909\n",
            "Epoch 12/100\n",
            "9/9 [==============================] - 0s 6ms/step - loss: 0.1770 - accuracy: 0.1647 - val_loss: 0.1624 - val_accuracy: 0.1364\n",
            "Epoch 13/100\n",
            "9/9 [==============================] - 0s 6ms/step - loss: 0.1736 - accuracy: 0.1294 - val_loss: 0.1581 - val_accuracy: 0.1364\n",
            "Epoch 14/100\n",
            "9/9 [==============================] - 0s 6ms/step - loss: 0.1652 - accuracy: 0.1412 - val_loss: 0.1556 - val_accuracy: 0.1364\n",
            "Epoch 15/100\n",
            "9/9 [==============================] - 0s 6ms/step - loss: 0.1691 - accuracy: 0.1294 - val_loss: 0.1540 - val_accuracy: 0.1364\n",
            "Epoch 16/100\n",
            "9/9 [==============================] - 0s 7ms/step - loss: 0.1642 - accuracy: 0.1529 - val_loss: 0.1531 - val_accuracy: 0.1364\n",
            "Epoch 17/100\n",
            "9/9 [==============================] - 0s 6ms/step - loss: 0.1585 - accuracy: 0.1882 - val_loss: 0.1522 - val_accuracy: 0.1364\n",
            "Epoch 18/100\n",
            "9/9 [==============================] - 0s 6ms/step - loss: 0.1544 - accuracy: 0.1176 - val_loss: 0.1515 - val_accuracy: 0.1364\n",
            "Epoch 19/100\n",
            "9/9 [==============================] - 0s 6ms/step - loss: 0.1624 - accuracy: 0.1294 - val_loss: 0.1505 - val_accuracy: 0.1364\n",
            "Epoch 20/100\n",
            "9/9 [==============================] - 0s 7ms/step - loss: 0.1566 - accuracy: 0.1529 - val_loss: 0.1499 - val_accuracy: 0.1364\n",
            "Epoch 21/100\n",
            "9/9 [==============================] - 0s 8ms/step - loss: 0.1546 - accuracy: 0.2000 - val_loss: 0.1495 - val_accuracy: 0.1364\n",
            "Epoch 22/100\n",
            "9/9 [==============================] - 0s 9ms/step - loss: 0.1542 - accuracy: 0.1529 - val_loss: 0.1490 - val_accuracy: 0.1364\n",
            "Epoch 23/100\n",
            "9/9 [==============================] - 0s 6ms/step - loss: 0.1535 - accuracy: 0.1529 - val_loss: 0.1481 - val_accuracy: 0.1364\n",
            "Epoch 24/100\n",
            "9/9 [==============================] - 0s 9ms/step - loss: 0.1558 - accuracy: 0.1294 - val_loss: 0.1480 - val_accuracy: 0.1364\n",
            "Epoch 25/100\n",
            "9/9 [==============================] - 0s 7ms/step - loss: 0.1523 - accuracy: 0.1412 - val_loss: 0.1477 - val_accuracy: 0.1364\n",
            "Epoch 26/100\n",
            "9/9 [==============================] - 0s 6ms/step - loss: 0.1462 - accuracy: 0.1647 - val_loss: 0.1473 - val_accuracy: 0.1364\n",
            "Epoch 27/100\n",
            "9/9 [==============================] - 0s 8ms/step - loss: 0.1481 - accuracy: 0.1647 - val_loss: 0.1468 - val_accuracy: 0.1364\n",
            "Epoch 28/100\n",
            "9/9 [==============================] - 0s 6ms/step - loss: 0.1486 - accuracy: 0.1882 - val_loss: 0.1461 - val_accuracy: 0.1364\n",
            "Epoch 29/100\n",
            "9/9 [==============================] - 0s 6ms/step - loss: 0.1496 - accuracy: 0.1294 - val_loss: 0.1451 - val_accuracy: 0.1364\n",
            "Epoch 30/100\n",
            "9/9 [==============================] - 0s 9ms/step - loss: 0.1469 - accuracy: 0.1294 - val_loss: 0.1450 - val_accuracy: 0.1364\n",
            "Epoch 31/100\n",
            "9/9 [==============================] - 0s 7ms/step - loss: 0.1485 - accuracy: 0.1529 - val_loss: 0.1450 - val_accuracy: 0.1364\n",
            "Epoch 32/100\n",
            "9/9 [==============================] - 0s 6ms/step - loss: 0.1414 - accuracy: 0.2000 - val_loss: 0.1444 - val_accuracy: 0.1364\n",
            "Epoch 33/100\n",
            "9/9 [==============================] - 0s 6ms/step - loss: 0.1473 - accuracy: 0.1294 - val_loss: 0.1441 - val_accuracy: 0.1364\n",
            "Epoch 34/100\n",
            "9/9 [==============================] - 0s 6ms/step - loss: 0.1413 - accuracy: 0.1412 - val_loss: 0.1437 - val_accuracy: 0.1364\n",
            "Epoch 35/100\n",
            "9/9 [==============================] - 0s 6ms/step - loss: 0.1428 - accuracy: 0.1647 - val_loss: 0.1429 - val_accuracy: 0.1364\n",
            "Epoch 36/100\n",
            "9/9 [==============================] - 0s 6ms/step - loss: 0.1427 - accuracy: 0.1294 - val_loss: 0.1427 - val_accuracy: 0.1364\n",
            "Epoch 37/100\n",
            "9/9 [==============================] - 0s 8ms/step - loss: 0.1411 - accuracy: 0.1765 - val_loss: 0.1424 - val_accuracy: 0.1364\n",
            "Epoch 38/100\n",
            "9/9 [==============================] - 0s 6ms/step - loss: 0.1390 - accuracy: 0.2000 - val_loss: 0.1424 - val_accuracy: 0.1364\n",
            "Epoch 39/100\n",
            "9/9 [==============================] - 0s 6ms/step - loss: 0.1447 - accuracy: 0.1765 - val_loss: 0.1427 - val_accuracy: 0.1364\n",
            "Epoch 40/100\n",
            "9/9 [==============================] - 0s 8ms/step - loss: 0.1334 - accuracy: 0.2000 - val_loss: 0.1424 - val_accuracy: 0.1364\n",
            "Epoch 41/100\n",
            "9/9 [==============================] - 0s 6ms/step - loss: 0.1396 - accuracy: 0.1647 - val_loss: 0.1410 - val_accuracy: 0.1364\n",
            "Epoch 42/100\n",
            "9/9 [==============================] - 0s 6ms/step - loss: 0.1457 - accuracy: 0.1765 - val_loss: 0.1405 - val_accuracy: 0.1364\n",
            "Epoch 43/100\n",
            "9/9 [==============================] - 0s 6ms/step - loss: 0.1407 - accuracy: 0.1294 - val_loss: 0.1398 - val_accuracy: 0.1364\n",
            "Epoch 44/100\n",
            "9/9 [==============================] - 0s 8ms/step - loss: 0.1358 - accuracy: 0.1882 - val_loss: 0.1403 - val_accuracy: 0.1364\n",
            "Epoch 45/100\n",
            "9/9 [==============================] - 0s 6ms/step - loss: 0.1333 - accuracy: 0.1882 - val_loss: 0.1399 - val_accuracy: 0.1364\n",
            "Epoch 46/100\n",
            "9/9 [==============================] - 0s 6ms/step - loss: 0.1324 - accuracy: 0.1882 - val_loss: 0.1393 - val_accuracy: 0.1364\n",
            "Epoch 47/100\n",
            "9/9 [==============================] - 0s 6ms/step - loss: 0.1341 - accuracy: 0.1647 - val_loss: 0.1383 - val_accuracy: 0.1364\n",
            "Epoch 48/100\n",
            "9/9 [==============================] - 0s 8ms/step - loss: 0.1344 - accuracy: 0.2000 - val_loss: 0.1383 - val_accuracy: 0.1364\n",
            "Epoch 49/100\n",
            "9/9 [==============================] - 0s 6ms/step - loss: 0.1367 - accuracy: 0.1647 - val_loss: 0.1376 - val_accuracy: 0.1818\n",
            "Epoch 50/100\n",
            "9/9 [==============================] - 0s 6ms/step - loss: 0.1330 - accuracy: 0.1647 - val_loss: 0.1378 - val_accuracy: 0.1818\n",
            "Epoch 51/100\n",
            "9/9 [==============================] - 0s 6ms/step - loss: 0.1332 - accuracy: 0.1529 - val_loss: 0.1374 - val_accuracy: 0.1364\n",
            "Epoch 52/100\n",
            "9/9 [==============================] - 0s 9ms/step - loss: 0.1315 - accuracy: 0.2000 - val_loss: 0.1372 - val_accuracy: 0.1364\n",
            "Epoch 53/100\n",
            "9/9 [==============================] - 0s 6ms/step - loss: 0.1278 - accuracy: 0.2235 - val_loss: 0.1364 - val_accuracy: 0.1364\n",
            "Epoch 54/100\n",
            "9/9 [==============================] - 0s 6ms/step - loss: 0.1322 - accuracy: 0.1647 - val_loss: 0.1353 - val_accuracy: 0.1364\n",
            "Epoch 55/100\n",
            "9/9 [==============================] - 0s 8ms/step - loss: 0.1335 - accuracy: 0.1647 - val_loss: 0.1348 - val_accuracy: 0.1364\n",
            "Epoch 56/100\n",
            "9/9 [==============================] - 0s 8ms/step - loss: 0.1335 - accuracy: 0.1294 - val_loss: 0.1350 - val_accuracy: 0.1818\n",
            "Epoch 57/100\n",
            "9/9 [==============================] - 0s 6ms/step - loss: 0.1285 - accuracy: 0.2235 - val_loss: 0.1346 - val_accuracy: 0.1818\n",
            "Epoch 58/100\n",
            "9/9 [==============================] - 0s 8ms/step - loss: 0.1280 - accuracy: 0.2000 - val_loss: 0.1342 - val_accuracy: 0.1818\n",
            "Epoch 59/100\n",
            "9/9 [==============================] - 0s 9ms/step - loss: 0.1247 - accuracy: 0.2235 - val_loss: 0.1343 - val_accuracy: 0.1818\n",
            "Epoch 60/100\n",
            "9/9 [==============================] - 0s 7ms/step - loss: 0.1275 - accuracy: 0.2353 - val_loss: 0.1353 - val_accuracy: 0.2273\n",
            "Epoch 61/100\n",
            "9/9 [==============================] - 0s 6ms/step - loss: 0.1311 - accuracy: 0.1765 - val_loss: 0.1343 - val_accuracy: 0.2273\n",
            "Epoch 62/100\n",
            "9/9 [==============================] - 0s 8ms/step - loss: 0.1273 - accuracy: 0.2235 - val_loss: 0.1336 - val_accuracy: 0.2273\n",
            "Epoch 63/100\n",
            "9/9 [==============================] - 0s 8ms/step - loss: 0.1260 - accuracy: 0.2235 - val_loss: 0.1337 - val_accuracy: 0.2273\n",
            "Epoch 64/100\n",
            "9/9 [==============================] - 0s 6ms/step - loss: 0.1255 - accuracy: 0.2353 - val_loss: 0.1330 - val_accuracy: 0.2273\n",
            "Epoch 65/100\n",
            "9/9 [==============================] - 0s 6ms/step - loss: 0.1232 - accuracy: 0.2588 - val_loss: 0.1327 - val_accuracy: 0.2273\n",
            "Epoch 66/100\n",
            "9/9 [==============================] - 0s 6ms/step - loss: 0.1255 - accuracy: 0.2118 - val_loss: 0.1331 - val_accuracy: 0.2273\n",
            "Epoch 67/100\n",
            "9/9 [==============================] - 0s 8ms/step - loss: 0.1270 - accuracy: 0.2235 - val_loss: 0.1323 - val_accuracy: 0.2273\n",
            "Epoch 68/100\n",
            "9/9 [==============================] - 0s 6ms/step - loss: 0.1208 - accuracy: 0.3059 - val_loss: 0.1315 - val_accuracy: 0.2273\n",
            "Epoch 69/100\n",
            "9/9 [==============================] - 0s 9ms/step - loss: 0.1225 - accuracy: 0.2706 - val_loss: 0.1310 - val_accuracy: 0.2273\n",
            "Epoch 70/100\n",
            "9/9 [==============================] - 0s 8ms/step - loss: 0.1228 - accuracy: 0.2118 - val_loss: 0.1315 - val_accuracy: 0.2273\n",
            "Epoch 71/100\n",
            "9/9 [==============================] - 0s 6ms/step - loss: 0.1215 - accuracy: 0.2824 - val_loss: 0.1316 - val_accuracy: 0.2273\n",
            "Epoch 72/100\n",
            "9/9 [==============================] - 0s 6ms/step - loss: 0.1230 - accuracy: 0.2471 - val_loss: 0.1315 - val_accuracy: 0.2273\n",
            "Epoch 73/100\n",
            "9/9 [==============================] - 0s 7ms/step - loss: 0.1199 - accuracy: 0.2941 - val_loss: 0.1309 - val_accuracy: 0.2273\n",
            "Epoch 74/100\n",
            "9/9 [==============================] - 0s 8ms/step - loss: 0.1170 - accuracy: 0.2824 - val_loss: 0.1302 - val_accuracy: 0.2727\n",
            "Epoch 75/100\n",
            "9/9 [==============================] - 0s 9ms/step - loss: 0.1222 - accuracy: 0.2471 - val_loss: 0.1299 - val_accuracy: 0.2727\n",
            "Epoch 76/100\n",
            "9/9 [==============================] - 0s 6ms/step - loss: 0.1196 - accuracy: 0.2471 - val_loss: 0.1296 - val_accuracy: 0.2727\n",
            "Epoch 77/100\n",
            "9/9 [==============================] - 0s 7ms/step - loss: 0.1175 - accuracy: 0.3059 - val_loss: 0.1302 - val_accuracy: 0.2727\n",
            "Epoch 78/100\n",
            "9/9 [==============================] - 0s 8ms/step - loss: 0.1153 - accuracy: 0.2706 - val_loss: 0.1294 - val_accuracy: 0.2727\n",
            "Epoch 79/100\n",
            "9/9 [==============================] - 0s 9ms/step - loss: 0.1191 - accuracy: 0.3059 - val_loss: 0.1292 - val_accuracy: 0.2727\n",
            "Epoch 80/100\n",
            "9/9 [==============================] - 0s 6ms/step - loss: 0.1132 - accuracy: 0.2941 - val_loss: 0.1294 - val_accuracy: 0.2727\n",
            "Epoch 81/100\n",
            "9/9 [==============================] - 0s 7ms/step - loss: 0.1195 - accuracy: 0.2353 - val_loss: 0.1288 - val_accuracy: 0.2727\n",
            "Epoch 82/100\n",
            "9/9 [==============================] - 0s 7ms/step - loss: 0.1141 - accuracy: 0.2471 - val_loss: 0.1293 - val_accuracy: 0.2727\n",
            "Epoch 83/100\n",
            "9/9 [==============================] - 0s 6ms/step - loss: 0.1148 - accuracy: 0.3059 - val_loss: 0.1289 - val_accuracy: 0.2727\n",
            "Epoch 84/100\n",
            "9/9 [==============================] - 0s 8ms/step - loss: 0.1157 - accuracy: 0.2824 - val_loss: 0.1283 - val_accuracy: 0.2727\n",
            "Epoch 85/100\n",
            "9/9 [==============================] - 0s 7ms/step - loss: 0.1159 - accuracy: 0.2588 - val_loss: 0.1283 - val_accuracy: 0.2727\n",
            "Epoch 86/100\n",
            "9/9 [==============================] - 0s 8ms/step - loss: 0.1136 - accuracy: 0.2706 - val_loss: 0.1285 - val_accuracy: 0.2727\n",
            "Epoch 87/100\n",
            "9/9 [==============================] - 0s 6ms/step - loss: 0.1109 - accuracy: 0.3412 - val_loss: 0.1286 - val_accuracy: 0.2727\n",
            "Epoch 88/100\n",
            "9/9 [==============================] - 0s 7ms/step - loss: 0.1135 - accuracy: 0.2588 - val_loss: 0.1278 - val_accuracy: 0.2727\n",
            "Epoch 89/100\n",
            "9/9 [==============================] - 0s 6ms/step - loss: 0.1117 - accuracy: 0.2824 - val_loss: 0.1280 - val_accuracy: 0.4091\n",
            "Epoch 90/100\n",
            "9/9 [==============================] - 0s 6ms/step - loss: 0.1121 - accuracy: 0.2588 - val_loss: 0.1280 - val_accuracy: 0.3182\n",
            "Epoch 91/100\n",
            "9/9 [==============================] - 0s 6ms/step - loss: 0.1134 - accuracy: 0.2824 - val_loss: 0.1278 - val_accuracy: 0.3182\n",
            "Epoch 92/100\n",
            "9/9 [==============================] - 0s 6ms/step - loss: 0.1131 - accuracy: 0.3176 - val_loss: 0.1277 - val_accuracy: 0.3182\n",
            "Epoch 93/100\n",
            "9/9 [==============================] - 0s 6ms/step - loss: 0.1123 - accuracy: 0.2471 - val_loss: 0.1267 - val_accuracy: 0.3182\n",
            "Epoch 94/100\n",
            "9/9 [==============================] - 0s 7ms/step - loss: 0.1135 - accuracy: 0.2706 - val_loss: 0.1273 - val_accuracy: 0.3182\n",
            "Epoch 95/100\n",
            "9/9 [==============================] - 0s 9ms/step - loss: 0.1076 - accuracy: 0.3412 - val_loss: 0.1277 - val_accuracy: 0.3182\n",
            "Epoch 96/100\n",
            "9/9 [==============================] - 0s 6ms/step - loss: 0.1074 - accuracy: 0.3412 - val_loss: 0.1279 - val_accuracy: 0.3182\n",
            "Epoch 97/100\n",
            "9/9 [==============================] - 0s 7ms/step - loss: 0.1104 - accuracy: 0.2824 - val_loss: 0.1277 - val_accuracy: 0.3182\n",
            "Epoch 98/100\n",
            "9/9 [==============================] - 0s 6ms/step - loss: 0.1083 - accuracy: 0.3294 - val_loss: 0.1275 - val_accuracy: 0.2727\n",
            "Epoch 99/100\n",
            "9/9 [==============================] - 0s 7ms/step - loss: 0.1118 - accuracy: 0.2588 - val_loss: 0.1273 - val_accuracy: 0.2727\n",
            "Epoch 100/100\n",
            "9/9 [==============================] - 0s 8ms/step - loss: 0.1080 - accuracy: 0.3294 - val_loss: 0.1267 - val_accuracy: 0.2727\n"
          ]
        }
      ]
    },
    {
      "cell_type": "code",
      "source": [
        "accuracy_plot(history)"
      ],
      "metadata": {
        "colab": {
          "base_uri": "https://localhost:8080/",
          "height": 591
        },
        "id": "V1mkd9nyZzuk",
        "outputId": "7edc88c3-6e4e-486a-f9e8-512796aeaeca"
      },
      "execution_count": null,
      "outputs": [
        {
          "output_type": "stream",
          "name": "stdout",
          "text": [
            "dict_keys(['loss', 'accuracy', 'val_loss', 'val_accuracy'])\n"
          ]
        },
        {
          "output_type": "display_data",
          "data": {
            "text/plain": [
              "<Figure size 432x288 with 1 Axes>"
            ],
            "image/png": "[encoded data removed]"
          },
          "metadata": {
            "needs_background": "light"
          }
        },
        {
          "output_type": "display_data",
          "data": {
            "text/plain": [
              "<Figure size 432x288 with 1 Axes>"
            ],
            "image/png": "[encoded data removed]"
          },
          "metadata": {
            "needs_background": "light"
          }
        }
      ]
    },
    {
      "cell_type": "markdown",
      "source": [
        "Jak można zauważyć strata znacząco się zmniejszyła w porównaniu do poprzednich parametrów"
      ],
      "metadata": {
        "id": "fa3OasnYZ3VE"
      }
    },
    {
      "cell_type": "code",
      "source": [
        "print('Wymiary naszych danych: ')\n",
        "print(X_train.shape)\n",
        "print(X_test.shape)\n",
        "print(y_train.shape)\n",
        "print(y_test.shape)"
      ],
      "metadata": {
        "colab": {
          "base_uri": "https://localhost:8080/"
        },
        "id": "6gCvuNCoZ-pC",
        "outputId": "f3e29e65-1dca-4bf2-b972-993cc86ec2a5"
      },
      "execution_count": null,
      "outputs": [
        {
          "output_type": "stream",
          "name": "stdout",
          "text": [
            "Wymiary naszych danych: \n",
            "(85, 6)\n",
            "(22, 6)\n",
            "(85, 30)\n",
            "(22, 30)\n"
          ]
        }
      ]
    },
    {
      "cell_type": "code",
      "source": [
        "# Predicting the Test set results\n",
        "y_pred = model.predict(X_test)\n",
        "y_pred = (y_pred > 0.5)\n",
        "\n",
        "prediction=model.predict(X_test)\n",
        "length=len(prediction)\n",
        "y_label=np.argmax(y_test,axis=1)\n",
        "predict_label=np.argmax(prediction,axis=1)\n",
        "#how times it matched/ how many test cases\n",
        "accuracy=np.sum(y_label==predict_label)/length * 100 \n",
        "print(\"Accuracy of the dataset\",accuracy )"
      ],
      "metadata": {
        "colab": {
          "base_uri": "https://localhost:8080/"
        },
        "id": "KQ3hVLdWaCEG",
        "outputId": "59bfcfdd-e4bd-4510-a280-900cb4780c37"
      },
      "execution_count": null,
      "outputs": [
        {
          "output_type": "stream",
          "name": "stdout",
          "text": [
            "1/1 [==============================] - 0s 63ms/step\n",
            "1/1 [==============================] - 0s 21ms/step\n",
            "Accuracy of the dataset 27.27272727272727\n"
          ]
        }
      ]
    },
    {
      "cell_type": "markdown",
      "source": [
        "Próba polepszenia wyników przy użyciu cross validation"
      ],
      "metadata": {
        "id": "c9EBEhw5aRd0"
      }
    },
    {
      "cell_type": "code",
      "source": [
        "training_data_array =np.array(X)\n",
        "labels_array =  np.array(Y.iloc[:,5:])\n",
        "#Manual k fold cross validation with F1 score calculation\n",
        "kfold = StratifiedKFold(n_splits=5, shuffle=True)\n",
        "cvscores = []\n",
        "f1scores = []\n",
        "iteration = 1\n",
        "\n",
        "for train_index, test_index in kfold.split(training_data_array,labels_array):\n",
        "    model = Sequential()\n",
        "    # create model\n",
        "    model.add(Dense(20,input_dim=6,activation='relu'))\n",
        "    model.add(Dense(50,activation='relu'))\n",
        "\n",
        "#Protects against overfitting\n",
        "    model.add(Dropout(0.2))\n",
        "#sigmoid\n",
        "# Adding the output layer\n",
        "    model.add(Dense(1,activation='softmax'))\n",
        "\n",
        "# Compiling the ANN\n",
        "    model.compile(loss='categorical_crossentropy',optimizer='adam',metrics=['accuracy'])\n",
        "\n",
        "    #separate train data and test data\n",
        "    x_train,x_test=training_data_array[train_index],training_data_array[test_index]\n",
        "    y_train,y_test=labels_array[train_index],labels_array[test_index]\n",
        "    model.fit(x_train, y_train, epochs=1000, batch_size=100,verbose=0)\n",
        "    scores = model.evaluate(x_test, y_test, verbose=0)\n",
        "    cvscores.append(scores[1] * 100)\n",
        "\n",
        "    #calculate F1 score\n",
        "    y_pred = model.predict(x_test, batch_size=100, verbose=1)\n",
        "    y_pred = np.where(y_pred > 0.5, 1, 0)\n",
        "    f1 = f1_score(y_test, y_pred, average='macro')\n",
        "    f1scores.append(f1)\n",
        "    \n",
        "    iteration = iteration + 1\n",
        "    \n",
        "print(\"Accuracy: %.2f%% (+/- %.2f%%)\" % (np.mean(cvscores), np.std(cvscores)))\n",
        "print(\"F1: %.2f%% (+/- %.2f%%)\" % (np.mean(f1scores), np.std(f1scores)))"
      ],
      "metadata": {
        "colab": {
          "base_uri": "https://localhost:8080/"
        },
        "id": "0KpP-2JaaPBp",
        "outputId": "28d5ae01-4202-4c43-b8c7-71ec50701658"
      },
      "execution_count": null,
      "outputs": [
        {
          "output_type": "stream",
          "name": "stderr",
          "text": [
            "/usr/local/lib/python3.8/dist-packages/sklearn/model_selection/_split.py:676: UserWarning: The least populated class in y has only 1 members, which is less than n_splits=5.\n",
            "  warnings.warn(\n"
          ]
        },
        {
          "output_type": "stream",
          "name": "stdout",
          "text": [
            "1/1 [==============================] - 0s 60ms/step\n",
            "1/1 [==============================] - 0s 55ms/step\n"
          ]
        },
        {
          "output_type": "stream",
          "name": "stderr",
          "text": [
            "WARNING:tensorflow:5 out of the last 7 calls to <function Model.make_predict_function.<locals>.predict_function at 0x7f8e0f6d6af0> triggered tf.function retracing. Tracing is expensive and the excessive number of tracings could be due to (1) creating @tf.function repeatedly in a loop, (2) passing tensors with different shapes, (3) passing Python objects instead of tensors. For (1), please define your @tf.function outside of the loop. For (2), @tf.function has reduce_retracing=True option that can avoid unnecessary retracing. For (3), please refer to https://www.tensorflow.org/guide/function#controlling_retracing and https://www.tensorflow.org/api_docs/python/tf/function for  more details.\n"
          ]
        },
        {
          "output_type": "stream",
          "name": "stdout",
          "text": [
            "1/1 [==============================] - 0s 62ms/step\n"
          ]
        },
        {
          "output_type": "stream",
          "name": "stderr",
          "text": [
            "WARNING:tensorflow:5 out of the last 304 calls to <function Model.make_test_function.<locals>.test_function at 0x7f8e0f8ac430> triggered tf.function retracing. Tracing is expensive and the excessive number of tracings could be due to (1) creating @tf.function repeatedly in a loop, (2) passing tensors with different shapes, (3) passing Python objects instead of tensors. For (1), please define your @tf.function outside of the loop. For (2), @tf.function has reduce_retracing=True option that can avoid unnecessary retracing. For (3), please refer to https://www.tensorflow.org/guide/function#controlling_retracing and https://www.tensorflow.org/api_docs/python/tf/function for  more details.\n",
            "WARNING:tensorflow:6 out of the last 8 calls to <function Model.make_predict_function.<locals>.predict_function at 0x7f8e0f8caca0> triggered tf.function retracing. Tracing is expensive and the excessive number of tracings could be due to (1) creating @tf.function repeatedly in a loop, (2) passing tensors with different shapes, (3) passing Python objects instead of tensors. For (1), please define your @tf.function outside of the loop. For (2), @tf.function has reduce_retracing=True option that can avoid unnecessary retracing. For (3), please refer to https://www.tensorflow.org/guide/function#controlling_retracing and https://www.tensorflow.org/api_docs/python/tf/function for  more details.\n"
          ]
        },
        {
          "output_type": "stream",
          "name": "stdout",
          "text": [
            "1/1 [==============================] - 0s 62ms/step\n"
          ]
        },
        {
          "output_type": "stream",
          "name": "stderr",
          "text": [
            "WARNING:tensorflow:6 out of the last 305 calls to <function Model.make_test_function.<locals>.test_function at 0x7f8e13c88040> triggered tf.function retracing. Tracing is expensive and the excessive number of tracings could be due to (1) creating @tf.function repeatedly in a loop, (2) passing tensors with different shapes, (3) passing Python objects instead of tensors. For (1), please define your @tf.function outside of the loop. For (2), @tf.function has reduce_retracing=True option that can avoid unnecessary retracing. For (3), please refer to https://www.tensorflow.org/guide/function#controlling_retracing and https://www.tensorflow.org/api_docs/python/tf/function for  more details.\n"
          ]
        },
        {
          "output_type": "stream",
          "name": "stdout",
          "text": [
            "1/1 [==============================] - 0s 56ms/step\n",
            "Accuracy: 8.40% (+/- 1.83%)\n",
            "F1: 0.01% (+/- 0.00%)\n"
          ]
        }
      ]
    },
    {
      "cell_type": "markdown",
      "source": [
        "Precyzja okazała się gorsza"
      ],
      "metadata": {
        "id": "7IYGxzSgaVRZ"
      }
    },
    {
      "cell_type": "markdown",
      "source": [
        "Zmieniam dane kategoryczne tak by jedna wartość przypadała na jeden neuron"
      ],
      "metadata": {
        "id": "EFrY21GCalGB"
      }
    },
    {
      "cell_type": "code",
      "source": [
        "for col in ['river',\n",
        "            'erected',\n",
        "            'purpose',\n",
        "            'clear-g']:\n",
        "    X[col] = X[col].astype('category')\n",
        "\n",
        "print(X.dtypes)\n",
        "X.head()"
      ],
      "metadata": {
        "colab": {
          "base_uri": "https://localhost:8080/",
          "height": 335
        },
        "id": "g1V5bti5ano4",
        "outputId": "0f8c6ffe-0830-4afc-c09b-c218f581e649"
      },
      "execution_count": null,
      "outputs": [
        {
          "output_type": "stream",
          "name": "stdout",
          "text": [
            "river      category\n",
            "erected    category\n",
            "purpose    category\n",
            "length      float64\n",
            "lanes       float64\n",
            "clear-g    category\n",
            "dtype: object\n"
          ]
        },
        {
          "output_type": "execute_result",
          "data": {
            "text/plain": [
              "  river erected purpose  length  lanes clear-g\n",
              "0   1.0       0       3     1.0    2.0     0.0\n",
              "1   0.0       0       3     1.0    2.0     0.0\n",
              "2   0.0       0       1     1.0    1.0     0.0\n",
              "3   0.0       0       3     1.0    2.0     0.0\n",
              "4   1.0       0       3     1.0    2.0     0.0"
            ],
            "text/html": [
              "\n",
              "  <div id=\"df-fcd70174-309c-437e-87a8-69494ae0c0ee\">\n",
              "    <div class=\"colab-df-container\">\n",
              "      <div>\n",
              "<style scoped>\n",
              "    .dataframe tbody tr th:only-of-type {\n",
              "        vertical-align: middle;\n",
              "    }\n",
              "\n",
              "    .dataframe tbody tr th {\n",
              "        vertical-align: top;\n",
              "    }\n",
              "\n",
              "    .dataframe thead th {\n",
              "        text-align: right;\n",
              "    }\n",
              "</style>\n",
              "<table border=\"1\" class=\"dataframe\">\n",
              "  <thead>\n",
              "    <tr style=\"text-align: right;\">\n",
              "      <th></th>\n",
              "      <th>river</th>\n",
              "      <th>erected</th>\n",
              "      <th>purpose</th>\n",
              "      <th>length</th>\n",
              "      <th>lanes</th>\n",
              "      <th>clear-g</th>\n",
              "    </tr>\n",
              "  </thead>\n",
              "  <tbody>\n",
              "    <tr>\n",
              "      <th>0</th>\n",
              "      <td>1.0</td>\n",
              "      <td>0</td>\n",
              "      <td>3</td>\n",
              "      <td>1.0</td>\n",
              "      <td>2.0</td>\n",
              "      <td>0.0</td>\n",
              "    </tr>\n",
              "    <tr>\n",
              "      <th>1</th>\n",
              "      <td>0.0</td>\n",
              "      <td>0</td>\n",
              "      <td>3</td>\n",
              "      <td>1.0</td>\n",
              "      <td>2.0</td>\n",
              "      <td>0.0</td>\n",
              "    </tr>\n",
              "    <tr>\n",
              "      <th>2</th>\n",
              "      <td>0.0</td>\n",
              "      <td>0</td>\n",
              "      <td>1</td>\n",
              "      <td>1.0</td>\n",
              "      <td>1.0</td>\n",
              "      <td>0.0</td>\n",
              "    </tr>\n",
              "    <tr>\n",
              "      <th>3</th>\n",
              "      <td>0.0</td>\n",
              "      <td>0</td>\n",
              "      <td>3</td>\n",
              "      <td>1.0</td>\n",
              "      <td>2.0</td>\n",
              "      <td>0.0</td>\n",
              "    </tr>\n",
              "    <tr>\n",
              "      <th>4</th>\n",
              "      <td>1.0</td>\n",
              "      <td>0</td>\n",
              "      <td>3</td>\n",
              "      <td>1.0</td>\n",
              "      <td>2.0</td>\n",
              "      <td>0.0</td>\n",
              "    </tr>\n",
              "  </tbody>\n",
              "</table>\n",
              "</div>\n",
              "      <button class=\"colab-df-convert\" onclick=\"convertToInteractive('df-fcd70174-309c-437e-87a8-69494ae0c0ee')\"\n",
              "              title=\"Convert this dataframe to an interactive table.\"\n",
              "              style=\"display:none;\">\n",
              "        \n",
              "  <svg xmlns=\"http://www.w3.org/2000/svg\" height=\"24px\"viewBox=\"0 0 24 24\"\n",
              "       width=\"24px\">\n",
              "    <path d=\"M0 0h24v24H0V0z\" fill=\"none\"/>\n",
              "    <path d=\"M18.56 5.44l.94 2.06.94-2.06 2.06-.94-2.06-.94-.94-2.06-.94 2.06-2.06.94zm-11 1L8.5 8.5l.94-2.06 2.06-.94-2.06-.94L8.5 2.5l-.94 2.06-2.06.94zm10 10l.94 2.06.94-2.06 2.06-.94-2.06-.94-.94-2.06-.94 2.06-2.06.94z\"/><path d=\"M17.41 7.96l-1.37-1.37c-.4-.4-.92-.59-1.43-.59-.52 0-1.04.2-1.43.59L10.3 9.45l-7.72 7.72c-.78.78-.78 2.05 0 2.83L4 21.41c.39.39.9.59 1.41.59.51 0 1.02-.2 1.41-.59l7.78-7.78 2.81-2.81c.8-.78.8-2.07 0-2.86zM5.41 20L4 18.59l7.72-7.72 1.47 1.35L5.41 20z\"/>\n",
              "  </svg>\n",
              "      </button>\n",
              "      \n",
              "  <style>\n",
              "    .colab-df-container {\n",
              "      display:flex;\n",
              "      flex-wrap:wrap;\n",
              "      gap: 12px;\n",
              "    }\n",
              "\n",
              "    .colab-df-convert {\n",
              "      background-color: #E8F0FE;\n",
              "      border: none;\n",
              "      border-radius: 50%;\n",
              "      cursor: pointer;\n",
              "      display: none;\n",
              "      fill: #1967D2;\n",
              "      height: 32px;\n",
              "      padding: 0 0 0 0;\n",
              "      width: 32px;\n",
              "    }\n",
              "\n",
              "    .colab-df-convert:hover {\n",
              "      background-color: #E2EBFA;\n",
              "      box-shadow: 0px 1px 2px rgba(60, 64, 67, 0.3), 0px 1px 3px 1px rgba(60, 64, 67, 0.15);\n",
              "      fill: #174EA6;\n",
              "    }\n",
              "\n",
              "    [theme=dark] .colab-df-convert {\n",
              "      background-color: #3B4455;\n",
              "      fill: #D2E3FC;\n",
              "    }\n",
              "\n",
              "    [theme=dark] .colab-df-convert:hover {\n",
              "      background-color: #434B5C;\n",
              "      box-shadow: 0px 1px 3px 1px rgba(0, 0, 0, 0.15);\n",
              "      filter: drop-shadow(0px 1px 2px rgba(0, 0, 0, 0.3));\n",
              "      fill: #FFFFFF;\n",
              "    }\n",
              "  </style>\n",
              "\n",
              "      <script>\n",
              "        const buttonEl =\n",
              "          document.querySelector('#df-fcd70174-309c-437e-87a8-69494ae0c0ee button.colab-df-convert');\n",
              "        buttonEl.style.display =\n",
              "          google.colab.kernel.accessAllowed ? 'block' : 'none';\n",
              "\n",
              "        async function convertToInteractive(key) {\n",
              "          const element = document.querySelector('#df-fcd70174-309c-437e-87a8-69494ae0c0ee');\n",
              "          const dataTable =\n",
              "            await google.colab.kernel.invokeFunction('convertToInteractive',\n",
              "                                                     [key], {});\n",
              "          if (!dataTable) return;\n",
              "\n",
              "          const docLinkHtml = 'Like what you see? Visit the ' +\n",
              "            '<a target=\"_blank\" href=https://colab.research.google.com/notebooks/data_table.ipynb>data table notebook</a>'\n",
              "            + ' to learn more about interactive tables.';\n",
              "          element.innerHTML = '';\n",
              "          dataTable['output_type'] = 'display_data';\n",
              "          await google.colab.output.renderOutput(dataTable, element);\n",
              "          const docLink = document.createElement('div');\n",
              "          docLink.innerHTML = docLinkHtml;\n",
              "          element.appendChild(docLink);\n",
              "        }\n",
              "      </script>\n",
              "    </div>\n",
              "  </div>\n",
              "  "
            ]
          },
          "metadata": {},
          "execution_count": 30
        }
      ]
    },
    {
      "cell_type": "code",
      "source": [
        "X_copy = X.copy()\n",
        "for i in X_copy.columns:\n",
        "  if X_copy[i].dtypes == 'category':\n",
        "    y = pd.get_dummies(X_copy[i], prefix=i)\n",
        "    X_copy = X_copy.drop(columns = i)\n",
        "    X_copy = pd.concat([X_copy, y], axis=1)\n",
        "\n",
        "X_copy"
      ],
      "metadata": {
        "colab": {
          "base_uri": "https://localhost:8080/",
          "height": 423
        },
        "id": "Meyxuom9aqzw",
        "outputId": "91596dec-b631-4f5f-efb2-d3c13775e3ce"
      },
      "execution_count": null,
      "outputs": [
        {
          "output_type": "execute_result",
          "data": {
            "text/plain": [
              "     length  lanes  river_0.0  river_1.0  river_3.0  river_4.0  erected_0  \\\n",
              "0       1.0    2.0          0          1          0          0          1   \n",
              "1       1.0    2.0          1          0          0          0          1   \n",
              "2       1.0    1.0          1          0          0          0          1   \n",
              "3       1.0    2.0          1          0          0          0          1   \n",
              "4       1.0    2.0          0          1          0          0          1   \n",
              "..      ...    ...        ...        ...        ...        ...        ...   \n",
              "103     0.0    6.0          1          0          0          0          0   \n",
              "104     2.0    6.0          0          0          1          0          0   \n",
              "105     0.0    6.0          0          1          0          0          0   \n",
              "106     2.0    2.0          0          0          1          0          0   \n",
              "107     0.0    4.0          1          0          0          0          0   \n",
              "\n",
              "     erected_1  erected_2  erected_3  purpose_0  purpose_1  purpose_2  \\\n",
              "0            0          0          0          0          0          0   \n",
              "1            0          0          0          0          0          0   \n",
              "2            0          0          0          0          1          0   \n",
              "3            0          0          0          0          0          0   \n",
              "4            0          0          0          0          0          0   \n",
              "..         ...        ...        ...        ...        ...        ...   \n",
              "103          0          0          1          0          0          0   \n",
              "104          0          0          1          0          0          0   \n",
              "105          0          0          1          0          0          0   \n",
              "106          0          0          1          0          0          0   \n",
              "107          0          0          1          0          0          0   \n",
              "\n",
              "     purpose_3  clear-g_0.0  clear-g_1.0  \n",
              "0            1            1            0  \n",
              "1            1            1            0  \n",
              "2            0            1            0  \n",
              "3            1            1            0  \n",
              "4            1            1            0  \n",
              "..         ...          ...          ...  \n",
              "103          1            0            1  \n",
              "104          1            0            1  \n",
              "105          1            0            1  \n",
              "106          1            0            1  \n",
              "107          1            0            1  \n",
              "\n",
              "[107 rows x 16 columns]"
            ],
            "text/html": [
              "\n",
              "  <div id=\"df-820507a4-579a-491a-8a5c-a289e2a419c6\">\n",
              "    <div class=\"colab-df-container\">\n",
              "      <div>\n",
              "<style scoped>\n",
              "    .dataframe tbody tr th:only-of-type {\n",
              "        vertical-align: middle;\n",
              "    }\n",
              "\n",
              "    .dataframe tbody tr th {\n",
              "        vertical-align: top;\n",
              "    }\n",
              "\n",
              "    .dataframe thead th {\n",
              "        text-align: right;\n",
              "    }\n",
              "</style>\n",
              "<table border=\"1\" class=\"dataframe\">\n",
              "  <thead>\n",
              "    <tr style=\"text-align: right;\">\n",
              "      <th></th>\n",
              "      <th>length</th>\n",
              "      <th>lanes</th>\n",
              "      <th>river_0.0</th>\n",
              "      <th>river_1.0</th>\n",
              "      <th>river_3.0</th>\n",
              "      <th>river_4.0</th>\n",
              "      <th>erected_0</th>\n",
              "      <th>erected_1</th>\n",
              "      <th>erected_2</th>\n",
              "      <th>erected_3</th>\n",
              "      <th>purpose_0</th>\n",
              "      <th>purpose_1</th>\n",
              "      <th>purpose_2</th>\n",
              "      <th>purpose_3</th>\n",
              "      <th>clear-g_0.0</th>\n",
              "      <th>clear-g_1.0</th>\n",
              "    </tr>\n",
              "  </thead>\n",
              "  <tbody>\n",
              "    <tr>\n",
              "      <th>0</th>\n",
              "      <td>1.0</td>\n",
              "      <td>2.0</td>\n",
              "      <td>0</td>\n",
              "      <td>1</td>\n",
              "      <td>0</td>\n",
              "      <td>0</td>\n",
              "      <td>1</td>\n",
              "      <td>0</td>\n",
              "      <td>0</td>\n",
              "      <td>0</td>\n",
              "      <td>0</td>\n",
              "      <td>0</td>\n",
              "      <td>0</td>\n",
              "      <td>1</td>\n",
              "      <td>1</td>\n",
              "      <td>0</td>\n",
              "    </tr>\n",
              "    <tr>\n",
              "      <th>1</th>\n",
              "      <td>1.0</td>\n",
              "      <td>2.0</td>\n",
              "      <td>1</td>\n",
              "      <td>0</td>\n",
              "      <td>0</td>\n",
              "      <td>0</td>\n",
              "      <td>1</td>\n",
              "      <td>0</td>\n",
              "      <td>0</td>\n",
              "      <td>0</td>\n",
              "      <td>0</td>\n",
              "      <td>0</td>\n",
              "      <td>0</td>\n",
              "      <td>1</td>\n",
              "      <td>1</td>\n",
              "      <td>0</td>\n",
              "    </tr>\n",
              "    <tr>\n",
              "      <th>2</th>\n",
              "      <td>1.0</td>\n",
              "      <td>1.0</td>\n",
              "      <td>1</td>\n",
              "      <td>0</td>\n",
              "      <td>0</td>\n",
              "      <td>0</td>\n",
              "      <td>1</td>\n",
              "      <td>0</td>\n",
              "      <td>0</td>\n",
              "      <td>0</td>\n",
              "      <td>0</td>\n",
              "      <td>1</td>\n",
              "      <td>0</td>\n",
              "      <td>0</td>\n",
              "      <td>1</td>\n",
              "      <td>0</td>\n",
              "    </tr>\n",
              "    <tr>\n",
              "      <th>3</th>\n",
              "      <td>1.0</td>\n",
              "      <td>2.0</td>\n",
              "      <td>1</td>\n",
              "      <td>0</td>\n",
              "      <td>0</td>\n",
              "      <td>0</td>\n",
              "      <td>1</td>\n",
              "      <td>0</td>\n",
              "      <td>0</td>\n",
              "      <td>0</td>\n",
              "      <td>0</td>\n",
              "      <td>0</td>\n",
              "      <td>0</td>\n",
              "      <td>1</td>\n",
              "      <td>1</td>\n",
              "      <td>0</td>\n",
              "    </tr>\n",
              "    <tr>\n",
              "      <th>4</th>\n",
              "      <td>1.0</td>\n",
              "      <td>2.0</td>\n",
              "      <td>0</td>\n",
              "      <td>1</td>\n",
              "      <td>0</td>\n",
              "      <td>0</td>\n",
              "      <td>1</td>\n",
              "      <td>0</td>\n",
              "      <td>0</td>\n",
              "      <td>0</td>\n",
              "      <td>0</td>\n",
              "      <td>0</td>\n",
              "      <td>0</td>\n",
              "      <td>1</td>\n",
              "      <td>1</td>\n",
              "      <td>0</td>\n",
              "    </tr>\n",
              "    <tr>\n",
              "      <th>...</th>\n",
              "      <td>...</td>\n",
              "      <td>...</td>\n",
              "      <td>...</td>\n",
              "      <td>...</td>\n",
              "      <td>...</td>\n",
              "      <td>...</td>\n",
              "      <td>...</td>\n",
              "      <td>...</td>\n",
              "      <td>...</td>\n",
              "      <td>...</td>\n",
              "      <td>...</td>\n",
              "      <td>...</td>\n",
              "      <td>...</td>\n",
              "      <td>...</td>\n",
              "      <td>...</td>\n",
              "      <td>...</td>\n",
              "    </tr>\n",
              "    <tr>\n",
              "      <th>103</th>\n",
              "      <td>0.0</td>\n",
              "      <td>6.0</td>\n",
              "      <td>1</td>\n",
              "      <td>0</td>\n",
              "      <td>0</td>\n",
              "      <td>0</td>\n",
              "      <td>0</td>\n",
              "      <td>0</td>\n",
              "      <td>0</td>\n",
              "      <td>1</td>\n",
              "      <td>0</td>\n",
              "      <td>0</td>\n",
              "      <td>0</td>\n",
              "      <td>1</td>\n",
              "      <td>0</td>\n",
              "      <td>1</td>\n",
              "    </tr>\n",
              "    <tr>\n",
              "      <th>104</th>\n",
              "      <td>2.0</td>\n",
              "      <td>6.0</td>\n",
              "      <td>0</td>\n",
              "      <td>0</td>\n",
              "      <td>1</td>\n",
              "      <td>0</td>\n",
              "      <td>0</td>\n",
              "      <td>0</td>\n",
              "      <td>0</td>\n",
              "      <td>1</td>\n",
              "      <td>0</td>\n",
              "      <td>0</td>\n",
              "      <td>0</td>\n",
              "      <td>1</td>\n",
              "      <td>0</td>\n",
              "      <td>1</td>\n",
              "    </tr>\n",
              "    <tr>\n",
              "      <th>105</th>\n",
              "      <td>0.0</td>\n",
              "      <td>6.0</td>\n",
              "      <td>0</td>\n",
              "      <td>1</td>\n",
              "      <td>0</td>\n",
              "      <td>0</td>\n",
              "      <td>0</td>\n",
              "      <td>0</td>\n",
              "      <td>0</td>\n",
              "      <td>1</td>\n",
              "      <td>0</td>\n",
              "      <td>0</td>\n",
              "      <td>0</td>\n",
              "      <td>1</td>\n",
              "      <td>0</td>\n",
              "      <td>1</td>\n",
              "    </tr>\n",
              "    <tr>\n",
              "      <th>106</th>\n",
              "      <td>2.0</td>\n",
              "      <td>2.0</td>\n",
              "      <td>0</td>\n",
              "      <td>0</td>\n",
              "      <td>1</td>\n",
              "      <td>0</td>\n",
              "      <td>0</td>\n",
              "      <td>0</td>\n",
              "      <td>0</td>\n",
              "      <td>1</td>\n",
              "      <td>0</td>\n",
              "      <td>0</td>\n",
              "      <td>0</td>\n",
              "      <td>1</td>\n",
              "      <td>0</td>\n",
              "      <td>1</td>\n",
              "    </tr>\n",
              "    <tr>\n",
              "      <th>107</th>\n",
              "      <td>0.0</td>\n",
              "      <td>4.0</td>\n",
              "      <td>1</td>\n",
              "      <td>0</td>\n",
              "      <td>0</td>\n",
              "      <td>0</td>\n",
              "      <td>0</td>\n",
              "      <td>0</td>\n",
              "      <td>0</td>\n",
              "      <td>1</td>\n",
              "      <td>0</td>\n",
              "      <td>0</td>\n",
              "      <td>0</td>\n",
              "      <td>1</td>\n",
              "      <td>0</td>\n",
              "      <td>1</td>\n",
              "    </tr>\n",
              "  </tbody>\n",
              "</table>\n",
              "<p>107 rows × 16 columns</p>\n",
              "</div>\n",
              "      <button class=\"colab-df-convert\" onclick=\"convertToInteractive('df-820507a4-579a-491a-8a5c-a289e2a419c6')\"\n",
              "              title=\"Convert this dataframe to an interactive table.\"\n",
              "              style=\"display:none;\">\n",
              "        \n",
              "  <svg xmlns=\"http://www.w3.org/2000/svg\" height=\"24px\"viewBox=\"0 0 24 24\"\n",
              "       width=\"24px\">\n",
              "    <path d=\"M0 0h24v24H0V0z\" fill=\"none\"/>\n",
              "    <path d=\"M18.56 5.44l.94 2.06.94-2.06 2.06-.94-2.06-.94-.94-2.06-.94 2.06-2.06.94zm-11 1L8.5 8.5l.94-2.06 2.06-.94-2.06-.94L8.5 2.5l-.94 2.06-2.06.94zm10 10l.94 2.06.94-2.06 2.06-.94-2.06-.94-.94-2.06-.94 2.06-2.06.94z\"/><path d=\"M17.41 7.96l-1.37-1.37c-.4-.4-.92-.59-1.43-.59-.52 0-1.04.2-1.43.59L10.3 9.45l-7.72 7.72c-.78.78-.78 2.05 0 2.83L4 21.41c.39.39.9.59 1.41.59.51 0 1.02-.2 1.41-.59l7.78-7.78 2.81-2.81c.8-.78.8-2.07 0-2.86zM5.41 20L4 18.59l7.72-7.72 1.47 1.35L5.41 20z\"/>\n",
              "  </svg>\n",
              "      </button>\n",
              "      \n",
              "  <style>\n",
              "    .colab-df-container {\n",
              "      display:flex;\n",
              "      flex-wrap:wrap;\n",
              "      gap: 12px;\n",
              "    }\n",
              "\n",
              "    .colab-df-convert {\n",
              "      background-color: #E8F0FE;\n",
              "      border: none;\n",
              "      border-radius: 50%;\n",
              "      cursor: pointer;\n",
              "      display: none;\n",
              "      fill: #1967D2;\n",
              "      height: 32px;\n",
              "      padding: 0 0 0 0;\n",
              "      width: 32px;\n",
              "    }\n",
              "\n",
              "    .colab-df-convert:hover {\n",
              "      background-color: #E2EBFA;\n",
              "      box-shadow: 0px 1px 2px rgba(60, 64, 67, 0.3), 0px 1px 3px 1px rgba(60, 64, 67, 0.15);\n",
              "      fill: #174EA6;\n",
              "    }\n",
              "\n",
              "    [theme=dark] .colab-df-convert {\n",
              "      background-color: #3B4455;\n",
              "      fill: #D2E3FC;\n",
              "    }\n",
              "\n",
              "    [theme=dark] .colab-df-convert:hover {\n",
              "      background-color: #434B5C;\n",
              "      box-shadow: 0px 1px 3px 1px rgba(0, 0, 0, 0.15);\n",
              "      filter: drop-shadow(0px 1px 2px rgba(0, 0, 0, 0.3));\n",
              "      fill: #FFFFFF;\n",
              "    }\n",
              "  </style>\n",
              "\n",
              "      <script>\n",
              "        const buttonEl =\n",
              "          document.querySelector('#df-820507a4-579a-491a-8a5c-a289e2a419c6 button.colab-df-convert');\n",
              "        buttonEl.style.display =\n",
              "          google.colab.kernel.accessAllowed ? 'block' : 'none';\n",
              "\n",
              "        async function convertToInteractive(key) {\n",
              "          const element = document.querySelector('#df-820507a4-579a-491a-8a5c-a289e2a419c6');\n",
              "          const dataTable =\n",
              "            await google.colab.kernel.invokeFunction('convertToInteractive',\n",
              "                                                     [key], {});\n",
              "          if (!dataTable) return;\n",
              "\n",
              "          const docLinkHtml = 'Like what you see? Visit the ' +\n",
              "            '<a target=\"_blank\" href=https://colab.research.google.com/notebooks/data_table.ipynb>data table notebook</a>'\n",
              "            + ' to learn more about interactive tables.';\n",
              "          element.innerHTML = '';\n",
              "          dataTable['output_type'] = 'display_data';\n",
              "          await google.colab.output.renderOutput(dataTable, element);\n",
              "          const docLink = document.createElement('div');\n",
              "          docLink.innerHTML = docLinkHtml;\n",
              "          element.appendChild(docLink);\n",
              "        }\n",
              "      </script>\n",
              "    </div>\n",
              "  </div>\n",
              "  "
            ]
          },
          "metadata": {},
          "execution_count": 31
        }
      ]
    },
    {
      "cell_type": "markdown",
      "source": [
        "Kolejna próba poprawy precyzji"
      ],
      "metadata": {
        "id": "RCrho2I2bB5X"
      }
    },
    {
      "cell_type": "code",
      "source": [
        "X_train, X_test, y_train, y_test = train_test_split(X_copy, Y_output, test_size=0.30, random_state=42)\n",
        "import math\n",
        "import pandas as pd\n",
        "from keras.models import Sequential \n",
        "from keras.layers import Dense,Activation,Dropout \n",
        "import numpy as np\n",
        "import random\n",
        "from sklearn import model_selection, preprocessing\n",
        "import tensorflow as tf\n",
        "from tqdm import tqdm\n",
        "import matplotlib.pyplot as plt\n",
        "from keras.utils import np_utils\n",
        "\n",
        "# Initialising the ANN\n",
        "model = Sequential()\n",
        "\n",
        "# Adding the input layer and the first hidden layer\n",
        "model.add(Dense(20,input_dim=16,activation='relu'))\n",
        "model.add(Dense(50,activation='relu'))\n",
        "\n",
        "#Protects against overfitting\n",
        "model.add(Dropout(0.2))\n",
        "\n",
        "# Adding the output layer\n",
        "model.add(Dense(len(mapa),activation='sigmoid'))\n",
        "\n",
        "# Compiling the ANN\n",
        "model.compile(loss='binary_crossentropy',optimizer='nadam',metrics=['accuracy'])\n",
        "history = model.fit(X_train, y_train,\n",
        "   epochs=100, batch_size=20,verbose=1, validation_data=(X_test, y_test))\n",
        "# Predicting the Test set results\n",
        "y_pred = model.predict(X_test)\n",
        "y_pred = (y_pred > 0.5)\n",
        "\n",
        "prediction=model.predict(X_test)\n",
        "length=len(prediction)\n",
        "y_label=np.argmax(y_test,axis=1)\n",
        "predict_label=np.argmax(prediction,axis=1)\n",
        "#how times it matched/ how many test cases\n",
        "accuracy=np.sum(y_label==predict_label)/length * 100 \n",
        "print(\"Accuracy of the dataset\",accuracy )\n"
      ],
      "metadata": {
        "colab": {
          "base_uri": "https://localhost:8080/"
        },
        "id": "PbzyyaK-bGc3",
        "outputId": "0807449d-76c2-4b7e-f9b2-bf0b816dbe13"
      },
      "execution_count": null,
      "outputs": [
        {
          "output_type": "stream",
          "name": "stdout",
          "text": [
            "Epoch 1/100\n",
            "4/4 [==============================] - 1s 67ms/step - loss: 0.7383 - accuracy: 0.0811 - val_loss: 0.7163 - val_accuracy: 0.0000e+00\n",
            "Epoch 2/100\n",
            "4/4 [==============================] - 0s 13ms/step - loss: 0.7128 - accuracy: 0.0405 - val_loss: 0.6944 - val_accuracy: 0.0000e+00\n",
            "Epoch 3/100\n",
            "4/4 [==============================] - 0s 13ms/step - loss: 0.6893 - accuracy: 0.0405 - val_loss: 0.6716 - val_accuracy: 0.0000e+00\n",
            "Epoch 4/100\n",
            "4/4 [==============================] - 0s 13ms/step - loss: 0.6688 - accuracy: 0.0541 - val_loss: 0.6474 - val_accuracy: 0.0000e+00\n",
            "Epoch 5/100\n",
            "4/4 [==============================] - 0s 11ms/step - loss: 0.6459 - accuracy: 0.0270 - val_loss: 0.6215 - val_accuracy: 0.0000e+00\n",
            "Epoch 6/100\n",
            "4/4 [==============================] - 0s 12ms/step - loss: 0.6208 - accuracy: 0.0135 - val_loss: 0.5935 - val_accuracy: 0.0000e+00\n",
            "Epoch 7/100\n",
            "4/4 [==============================] - 0s 12ms/step - loss: 0.5930 - accuracy: 0.0135 - val_loss: 0.5629 - val_accuracy: 0.0000e+00\n",
            "Epoch 8/100\n",
            "4/4 [==============================] - 0s 11ms/step - loss: 0.5588 - accuracy: 0.0270 - val_loss: 0.5288 - val_accuracy: 0.0000e+00\n",
            "Epoch 9/100\n",
            "4/4 [==============================] - 0s 11ms/step - loss: 0.5304 - accuracy: 0.0270 - val_loss: 0.4920 - val_accuracy: 0.0000e+00\n",
            "Epoch 10/100\n",
            "4/4 [==============================] - 0s 11ms/step - loss: 0.4973 - accuracy: 0.0541 - val_loss: 0.4534 - val_accuracy: 0.0000e+00\n",
            "Epoch 11/100\n",
            "4/4 [==============================] - 0s 12ms/step - loss: 0.4582 - accuracy: 0.0000e+00 - val_loss: 0.4130 - val_accuracy: 0.0000e+00\n",
            "Epoch 12/100\n",
            "4/4 [==============================] - 0s 14ms/step - loss: 0.4193 - accuracy: 0.0405 - val_loss: 0.3725 - val_accuracy: 0.0000e+00\n",
            "Epoch 13/100\n",
            "4/4 [==============================] - 0s 13ms/step - loss: 0.3833 - accuracy: 0.0000e+00 - val_loss: 0.3331 - val_accuracy: 0.0000e+00\n",
            "Epoch 14/100\n",
            "4/4 [==============================] - 0s 12ms/step - loss: 0.3426 - accuracy: 0.0135 - val_loss: 0.2959 - val_accuracy: 0.0000e+00\n",
            "Epoch 15/100\n",
            "4/4 [==============================] - 0s 17ms/step - loss: 0.3062 - accuracy: 0.0135 - val_loss: 0.2626 - val_accuracy: 0.0000e+00\n",
            "Epoch 16/100\n",
            "4/4 [==============================] - 0s 17ms/step - loss: 0.2836 - accuracy: 0.0270 - val_loss: 0.2337 - val_accuracy: 0.0000e+00\n",
            "Epoch 17/100\n",
            "4/4 [==============================] - 0s 12ms/step - loss: 0.2485 - accuracy: 0.0541 - val_loss: 0.2098 - val_accuracy: 0.0000e+00\n",
            "Epoch 18/100\n",
            "4/4 [==============================] - 0s 13ms/step - loss: 0.2235 - accuracy: 0.0811 - val_loss: 0.1909 - val_accuracy: 0.0000e+00\n",
            "Epoch 19/100\n",
            "4/4 [==============================] - 0s 16ms/step - loss: 0.2049 - accuracy: 0.0405 - val_loss: 0.1764 - val_accuracy: 0.0000e+00\n",
            "Epoch 20/100\n",
            "4/4 [==============================] - 0s 15ms/step - loss: 0.1908 - accuracy: 0.0405 - val_loss: 0.1657 - val_accuracy: 0.0000e+00\n",
            "Epoch 21/100\n",
            "4/4 [==============================] - 0s 12ms/step - loss: 0.1827 - accuracy: 0.0541 - val_loss: 0.1581 - val_accuracy: 0.0303\n",
            "Epoch 22/100\n",
            "4/4 [==============================] - 0s 14ms/step - loss: 0.1710 - accuracy: 0.0946 - val_loss: 0.1529 - val_accuracy: 0.0909\n",
            "Epoch 23/100\n",
            "4/4 [==============================] - 0s 12ms/step - loss: 0.1595 - accuracy: 0.0946 - val_loss: 0.1493 - val_accuracy: 0.1515\n",
            "Epoch 24/100\n",
            "4/4 [==============================] - 0s 12ms/step - loss: 0.1570 - accuracy: 0.1081 - val_loss: 0.1469 - val_accuracy: 0.1818\n",
            "Epoch 25/100\n",
            "4/4 [==============================] - 0s 11ms/step - loss: 0.1557 - accuracy: 0.1757 - val_loss: 0.1453 - val_accuracy: 0.1818\n",
            "Epoch 26/100\n",
            "4/4 [==============================] - 0s 12ms/step - loss: 0.1490 - accuracy: 0.1216 - val_loss: 0.1441 - val_accuracy: 0.1818\n",
            "Epoch 27/100\n",
            "4/4 [==============================] - 0s 13ms/step - loss: 0.1468 - accuracy: 0.1622 - val_loss: 0.1432 - val_accuracy: 0.1818\n",
            "Epoch 28/100\n",
            "4/4 [==============================] - 0s 15ms/step - loss: 0.1486 - accuracy: 0.1622 - val_loss: 0.1426 - val_accuracy: 0.1818\n",
            "Epoch 29/100\n",
            "4/4 [==============================] - 0s 12ms/step - loss: 0.1456 - accuracy: 0.1486 - val_loss: 0.1422 - val_accuracy: 0.1818\n",
            "Epoch 30/100\n",
            "4/4 [==============================] - 0s 12ms/step - loss: 0.1445 - accuracy: 0.2027 - val_loss: 0.1419 - val_accuracy: 0.1818\n",
            "Epoch 31/100\n",
            "4/4 [==============================] - 0s 12ms/step - loss: 0.1449 - accuracy: 0.1351 - val_loss: 0.1416 - val_accuracy: 0.1818\n",
            "Epoch 32/100\n",
            "4/4 [==============================] - 0s 12ms/step - loss: 0.1450 - accuracy: 0.1622 - val_loss: 0.1412 - val_accuracy: 0.1818\n",
            "Epoch 33/100\n",
            "4/4 [==============================] - 0s 12ms/step - loss: 0.1397 - accuracy: 0.1892 - val_loss: 0.1409 - val_accuracy: 0.1818\n",
            "Epoch 34/100\n",
            "4/4 [==============================] - 0s 11ms/step - loss: 0.1385 - accuracy: 0.1757 - val_loss: 0.1405 - val_accuracy: 0.1818\n",
            "Epoch 35/100\n",
            "4/4 [==============================] - 0s 12ms/step - loss: 0.1434 - accuracy: 0.1757 - val_loss: 0.1403 - val_accuracy: 0.1818\n",
            "Epoch 36/100\n",
            "4/4 [==============================] - 0s 13ms/step - loss: 0.1430 - accuracy: 0.1892 - val_loss: 0.1402 - val_accuracy: 0.1818\n",
            "Epoch 37/100\n",
            "4/4 [==============================] - 0s 12ms/step - loss: 0.1458 - accuracy: 0.1081 - val_loss: 0.1399 - val_accuracy: 0.1818\n",
            "Epoch 38/100\n",
            "4/4 [==============================] - 0s 15ms/step - loss: 0.1375 - accuracy: 0.1486 - val_loss: 0.1397 - val_accuracy: 0.1818\n",
            "Epoch 39/100\n",
            "4/4 [==============================] - 0s 13ms/step - loss: 0.1379 - accuracy: 0.1622 - val_loss: 0.1396 - val_accuracy: 0.1818\n",
            "Epoch 40/100\n",
            "4/4 [==============================] - 0s 12ms/step - loss: 0.1375 - accuracy: 0.1351 - val_loss: 0.1394 - val_accuracy: 0.1818\n",
            "Epoch 41/100\n",
            "4/4 [==============================] - 0s 11ms/step - loss: 0.1394 - accuracy: 0.1757 - val_loss: 0.1391 - val_accuracy: 0.1818\n",
            "Epoch 42/100\n",
            "4/4 [==============================] - 0s 11ms/step - loss: 0.1383 - accuracy: 0.1757 - val_loss: 0.1390 - val_accuracy: 0.1818\n",
            "Epoch 43/100\n",
            "4/4 [==============================] - 0s 11ms/step - loss: 0.1391 - accuracy: 0.1486 - val_loss: 0.1387 - val_accuracy: 0.1818\n",
            "Epoch 44/100\n",
            "4/4 [==============================] - 0s 11ms/step - loss: 0.1387 - accuracy: 0.2027 - val_loss: 0.1385 - val_accuracy: 0.1818\n",
            "Epoch 45/100\n",
            "4/4 [==============================] - 0s 12ms/step - loss: 0.1353 - accuracy: 0.1892 - val_loss: 0.1383 - val_accuracy: 0.1818\n",
            "Epoch 46/100\n",
            "4/4 [==============================] - 0s 13ms/step - loss: 0.1340 - accuracy: 0.1892 - val_loss: 0.1382 - val_accuracy: 0.1818\n",
            "Epoch 47/100\n",
            "4/4 [==============================] - 0s 13ms/step - loss: 0.1327 - accuracy: 0.2162 - val_loss: 0.1382 - val_accuracy: 0.1818\n",
            "Epoch 48/100\n",
            "4/4 [==============================] - 0s 12ms/step - loss: 0.1368 - accuracy: 0.1216 - val_loss: 0.1379 - val_accuracy: 0.1818\n",
            "Epoch 49/100\n",
            "4/4 [==============================] - 0s 11ms/step - loss: 0.1334 - accuracy: 0.2027 - val_loss: 0.1378 - val_accuracy: 0.1818\n",
            "Epoch 50/100\n",
            "4/4 [==============================] - 0s 12ms/step - loss: 0.1337 - accuracy: 0.1622 - val_loss: 0.1375 - val_accuracy: 0.1818\n",
            "Epoch 51/100\n",
            "4/4 [==============================] - 0s 12ms/step - loss: 0.1324 - accuracy: 0.2027 - val_loss: 0.1372 - val_accuracy: 0.1818\n",
            "Epoch 52/100\n",
            "4/4 [==============================] - 0s 16ms/step - loss: 0.1317 - accuracy: 0.1622 - val_loss: 0.1371 - val_accuracy: 0.1818\n",
            "Epoch 53/100\n",
            "4/4 [==============================] - 0s 14ms/step - loss: 0.1304 - accuracy: 0.2027 - val_loss: 0.1369 - val_accuracy: 0.1818\n",
            "Epoch 54/100\n",
            "4/4 [==============================] - 0s 12ms/step - loss: 0.1326 - accuracy: 0.2162 - val_loss: 0.1368 - val_accuracy: 0.1818\n",
            "Epoch 55/100\n",
            "4/4 [==============================] - 0s 12ms/step - loss: 0.1285 - accuracy: 0.2162 - val_loss: 0.1368 - val_accuracy: 0.1818\n",
            "Epoch 56/100\n",
            "4/4 [==============================] - 0s 20ms/step - loss: 0.1305 - accuracy: 0.2162 - val_loss: 0.1365 - val_accuracy: 0.1818\n",
            "Epoch 57/100\n",
            "4/4 [==============================] - 0s 15ms/step - loss: 0.1326 - accuracy: 0.2027 - val_loss: 0.1364 - val_accuracy: 0.2424\n",
            "Epoch 58/100\n",
            "4/4 [==============================] - 0s 13ms/step - loss: 0.1300 - accuracy: 0.1757 - val_loss: 0.1361 - val_accuracy: 0.2424\n",
            "Epoch 59/100\n",
            "4/4 [==============================] - 0s 13ms/step - loss: 0.1300 - accuracy: 0.1622 - val_loss: 0.1361 - val_accuracy: 0.2424\n",
            "Epoch 60/100\n",
            "4/4 [==============================] - 0s 14ms/step - loss: 0.1296 - accuracy: 0.1757 - val_loss: 0.1360 - val_accuracy: 0.2424\n",
            "Epoch 61/100\n",
            "4/4 [==============================] - 0s 14ms/step - loss: 0.1276 - accuracy: 0.2297 - val_loss: 0.1357 - val_accuracy: 0.2424\n",
            "Epoch 62/100\n",
            "4/4 [==============================] - 0s 13ms/step - loss: 0.1315 - accuracy: 0.1892 - val_loss: 0.1354 - val_accuracy: 0.2424\n",
            "Epoch 63/100\n",
            "4/4 [==============================] - 0s 12ms/step - loss: 0.1284 - accuracy: 0.2568 - val_loss: 0.1352 - val_accuracy: 0.2424\n",
            "Epoch 64/100\n",
            "4/4 [==============================] - 0s 13ms/step - loss: 0.1256 - accuracy: 0.2432 - val_loss: 0.1349 - val_accuracy: 0.2424\n",
            "Epoch 65/100\n",
            "4/4 [==============================] - 0s 13ms/step - loss: 0.1276 - accuracy: 0.2703 - val_loss: 0.1347 - val_accuracy: 0.2424\n",
            "Epoch 66/100\n",
            "4/4 [==============================] - 0s 13ms/step - loss: 0.1267 - accuracy: 0.2162 - val_loss: 0.1344 - val_accuracy: 0.2424\n",
            "Epoch 67/100\n",
            "4/4 [==============================] - 0s 12ms/step - loss: 0.1234 - accuracy: 0.2838 - val_loss: 0.1342 - val_accuracy: 0.2424\n",
            "Epoch 68/100\n",
            "4/4 [==============================] - 0s 12ms/step - loss: 0.1289 - accuracy: 0.2297 - val_loss: 0.1340 - val_accuracy: 0.2727\n",
            "Epoch 69/100\n",
            "4/4 [==============================] - 0s 16ms/step - loss: 0.1310 - accuracy: 0.1757 - val_loss: 0.1336 - val_accuracy: 0.2727\n",
            "Epoch 70/100\n",
            "4/4 [==============================] - 0s 12ms/step - loss: 0.1265 - accuracy: 0.2027 - val_loss: 0.1334 - val_accuracy: 0.2727\n",
            "Epoch 71/100\n",
            "4/4 [==============================] - 0s 13ms/step - loss: 0.1271 - accuracy: 0.2297 - val_loss: 0.1333 - val_accuracy: 0.2727\n",
            "Epoch 72/100\n",
            "4/4 [==============================] - 0s 11ms/step - loss: 0.1260 - accuracy: 0.1892 - val_loss: 0.1329 - val_accuracy: 0.2727\n",
            "Epoch 73/100\n",
            "4/4 [==============================] - 0s 18ms/step - loss: 0.1192 - accuracy: 0.2703 - val_loss: 0.1326 - val_accuracy: 0.2727\n",
            "Epoch 74/100\n",
            "4/4 [==============================] - 0s 13ms/step - loss: 0.1282 - accuracy: 0.2162 - val_loss: 0.1325 - val_accuracy: 0.2727\n",
            "Epoch 75/100\n",
            "4/4 [==============================] - 0s 13ms/step - loss: 0.1222 - accuracy: 0.2162 - val_loss: 0.1324 - val_accuracy: 0.2727\n",
            "Epoch 76/100\n",
            "4/4 [==============================] - 0s 18ms/step - loss: 0.1179 - accuracy: 0.2973 - val_loss: 0.1323 - val_accuracy: 0.2727\n",
            "Epoch 77/100\n",
            "4/4 [==============================] - 0s 13ms/step - loss: 0.1207 - accuracy: 0.2703 - val_loss: 0.1321 - val_accuracy: 0.2727\n",
            "Epoch 78/100\n",
            "4/4 [==============================] - 0s 12ms/step - loss: 0.1186 - accuracy: 0.2432 - val_loss: 0.1320 - val_accuracy: 0.2727\n",
            "Epoch 79/100\n",
            "4/4 [==============================] - 0s 13ms/step - loss: 0.1203 - accuracy: 0.2297 - val_loss: 0.1320 - val_accuracy: 0.2727\n",
            "Epoch 80/100\n",
            "4/4 [==============================] - 0s 12ms/step - loss: 0.1190 - accuracy: 0.2568 - val_loss: 0.1317 - val_accuracy: 0.2727\n",
            "Epoch 81/100\n",
            "4/4 [==============================] - 0s 11ms/step - loss: 0.1230 - accuracy: 0.2432 - val_loss: 0.1314 - val_accuracy: 0.2727\n",
            "Epoch 82/100\n",
            "4/4 [==============================] - 0s 11ms/step - loss: 0.1200 - accuracy: 0.2432 - val_loss: 0.1312 - val_accuracy: 0.3333\n",
            "Epoch 83/100\n",
            "4/4 [==============================] - 0s 11ms/step - loss: 0.1179 - accuracy: 0.2703 - val_loss: 0.1306 - val_accuracy: 0.3333\n",
            "Epoch 84/100\n",
            "4/4 [==============================] - 0s 13ms/step - loss: 0.1211 - accuracy: 0.2432 - val_loss: 0.1303 - val_accuracy: 0.3333\n",
            "Epoch 85/100\n",
            "4/4 [==============================] - 0s 12ms/step - loss: 0.1159 - accuracy: 0.2703 - val_loss: 0.1301 - val_accuracy: 0.3333\n",
            "Epoch 86/100\n",
            "4/4 [==============================] - 0s 11ms/step - loss: 0.1197 - accuracy: 0.2162 - val_loss: 0.1300 - val_accuracy: 0.3333\n",
            "Epoch 87/100\n",
            "4/4 [==============================] - 0s 18ms/step - loss: 0.1222 - accuracy: 0.2568 - val_loss: 0.1300 - val_accuracy: 0.3333\n",
            "Epoch 88/100\n",
            "4/4 [==============================] - 0s 18ms/step - loss: 0.1187 - accuracy: 0.2838 - val_loss: 0.1298 - val_accuracy: 0.3333\n",
            "Epoch 89/100\n",
            "4/4 [==============================] - 0s 13ms/step - loss: 0.1137 - accuracy: 0.2838 - val_loss: 0.1298 - val_accuracy: 0.3333\n",
            "Epoch 90/100\n",
            "4/4 [==============================] - 0s 12ms/step - loss: 0.1219 - accuracy: 0.2703 - val_loss: 0.1296 - val_accuracy: 0.3333\n",
            "Epoch 91/100\n",
            "4/4 [==============================] - 0s 11ms/step - loss: 0.1114 - accuracy: 0.3514 - val_loss: 0.1295 - val_accuracy: 0.3333\n",
            "Epoch 92/100\n",
            "4/4 [==============================] - 0s 12ms/step - loss: 0.1160 - accuracy: 0.2703 - val_loss: 0.1295 - val_accuracy: 0.3333\n",
            "Epoch 93/100\n",
            "4/4 [==============================] - 0s 12ms/step - loss: 0.1136 - accuracy: 0.2568 - val_loss: 0.1295 - val_accuracy: 0.3333\n",
            "Epoch 94/100\n",
            "4/4 [==============================] - 0s 16ms/step - loss: 0.1154 - accuracy: 0.2703 - val_loss: 0.1293 - val_accuracy: 0.3333\n",
            "Epoch 95/100\n",
            "4/4 [==============================] - 0s 13ms/step - loss: 0.1163 - accuracy: 0.2568 - val_loss: 0.1291 - val_accuracy: 0.3333\n",
            "Epoch 96/100\n",
            "4/4 [==============================] - 0s 14ms/step - loss: 0.1138 - accuracy: 0.2973 - val_loss: 0.1290 - val_accuracy: 0.3333\n",
            "Epoch 97/100\n",
            "4/4 [==============================] - 0s 12ms/step - loss: 0.1153 - accuracy: 0.2703 - val_loss: 0.1291 - val_accuracy: 0.3333\n",
            "Epoch 98/100\n",
            "4/4 [==============================] - 0s 13ms/step - loss: 0.1099 - accuracy: 0.2568 - val_loss: 0.1291 - val_accuracy: 0.3333\n",
            "Epoch 99/100\n",
            "4/4 [==============================] - 0s 12ms/step - loss: 0.1131 - accuracy: 0.2973 - val_loss: 0.1290 - val_accuracy: 0.3333\n",
            "Epoch 100/100\n",
            "4/4 [==============================] - 0s 11ms/step - loss: 0.1141 - accuracy: 0.2432 - val_loss: 0.1289 - val_accuracy: 0.3333\n",
            "2/2 [==============================] - 0s 4ms/step\n",
            "2/2 [==============================] - 0s 4ms/step\n",
            "Accuracy of the dataset 33.33333333333333\n"
          ]
        }
      ]
    },
    {
      "cell_type": "markdown",
      "source": [
        "Nic to nie zmieniło, zmiana neuronów w wartwach również nic nie zmienia. Liczba epok czy batch_size też nic nie zmienia. Przypuszczam że zbiór jest mocno niedeterministyczny."
      ],
      "metadata": {
        "id": "khea6X0ibPtQ"
      }
    },
    {
      "cell_type": "markdown",
      "source": [
        "#SOM"
      ],
      "metadata": {
        "id": "yGjxtwrMbGJr"
      }
    },
    {
      "cell_type": "code",
      "source": [
        "print(X)\n",
        "print(Y)"
      ],
      "metadata": {
        "colab": {
          "base_uri": "https://localhost:8080/"
        },
        "id": "vVhQvGLPbkph",
        "outputId": "cccf3014-e861-4ae4-a1a2-46c8f7e6af49"
      },
      "execution_count": null,
      "outputs": [
        {
          "output_type": "stream",
          "name": "stdout",
          "text": [
            "    river erected purpose  length  lanes clear-g\n",
            "0     1.0       0       3     1.0    2.0     0.0\n",
            "1     0.0       0       3     1.0    2.0     0.0\n",
            "2     0.0       0       1     1.0    1.0     0.0\n",
            "3     0.0       0       3     1.0    2.0     0.0\n",
            "4     1.0       0       3     1.0    2.0     0.0\n",
            "..    ...     ...     ...     ...    ...     ...\n",
            "103   0.0       3       3     0.0    6.0     1.0\n",
            "104   3.0       3       3     2.0    6.0     1.0\n",
            "105   1.0       3       3     0.0    6.0     1.0\n",
            "106   3.0       3       3     2.0    2.0     1.0\n",
            "107   0.0       3       3     0.0    4.0     1.0\n",
            "\n",
            "[107 rows x 6 columns]\n",
            "     t-or-d  material  span  rel-l  type  class\n",
            "0       0.0       0.0   0.0    0.0   0.0      0\n",
            "1       0.0       0.0   0.0    0.0   0.0      0\n",
            "2       0.0       0.0   1.0    0.0   0.0      1\n",
            "3       0.0       0.0   0.0    0.0   0.0      0\n",
            "4       0.0       0.0   1.0    0.0   0.0      1\n",
            "..      ...       ...   ...    ...   ...    ...\n",
            "103     0.0       2.0   1.0    2.0   3.0     13\n",
            "104     0.0       2.0   2.0    2.0   3.0     19\n",
            "105     0.0       2.0   2.0    2.0   3.0     19\n",
            "106     0.0       2.0   1.0    2.0   2.0     12\n",
            "107     0.0       2.0   1.0    2.0   2.0     12\n",
            "\n",
            "[107 rows x 6 columns]\n"
          ]
        }
      ]
    },
    {
      "cell_type": "code",
      "source": [
        "!pip install minisom\n",
        "from minisom import MiniSom"
      ],
      "metadata": {
        "colab": {
          "base_uri": "https://localhost:8080/"
        },
        "id": "wuQr8IHLbpqv",
        "outputId": "acec5470-ddd2-40bb-a36c-c9a2131ad4ea"
      },
      "execution_count": null,
      "outputs": [
        {
          "output_type": "stream",
          "name": "stdout",
          "text": [
            "Looking in indexes: https://pypi.org/simple, https://us-python.pkg.dev/colab-wheels/public/simple/\n",
            "Collecting minisom\n",
            "  Downloading MiniSom-2.3.0.tar.gz (8.8 kB)\n",
            "Building wheels for collected packages: minisom\n",
            "  Building wheel for minisom (setup.py) ... \u001b[?25l\u001b[?25hdone\n",
            "  Created wheel for minisom: filename=MiniSom-2.3.0-py3-none-any.whl size=9016 sha256=cf642d86c493190ec883c3bd084a5e5bbd296001716df6e3c74adb12d9afa504\n",
            "  Stored in directory: /root/.cache/pip/wheels/6d/4e/9e/a95c14a232a196c22d9c04b221ff5d25461a1a4c55339c61db\n",
            "Successfully built minisom\n",
            "Installing collected packages: minisom\n",
            "Successfully installed minisom-2.3.0\n"
          ]
        }
      ]
    },
    {
      "cell_type": "markdown",
      "source": [
        "Dzielę zbiory na trenujące i testowe, oraz zamieniam na tablice numpy do pracy z biblioteką MiniSom. Zmiana rozmiaru danych testowych nie ma wpływu na wynik."
      ],
      "metadata": {
        "id": "O6JXWbWubstx"
      }
    },
    {
      "cell_type": "code",
      "source": [
        "X_train, X_test, Y_train, Y_test = train_test_split(X, Y[\"class\"], test_size=0.20, random_state=31)\n",
        "\n",
        "X_train_np = X_train.to_numpy()\n",
        "X_test_np = X_test.to_numpy()\n",
        "Y_train_np = Y_train.to_numpy()\n",
        "Y_test_np = Y_test.to_numpy()"
      ],
      "metadata": {
        "id": "peppNPRIb0aM"
      },
      "execution_count": null,
      "outputs": []
    },
    {
      "cell_type": "markdown",
      "source": [
        "Sprawdzam który algorytm da najniższy błąd kwantyzacji"
      ],
      "metadata": {
        "id": "7GTIoo4yb60A"
      }
    },
    {
      "cell_type": "code",
      "source": [
        "som = MiniSom(x=12, y=12, input_len=6, sigma=5.0, learning_rate=0.3, random_seed=10,\n",
        "              neighborhood_function='gaussian',activation_distance=\"euclidean\")\n",
        "som.random_weights_init(X_train_np)\n",
        "som.train(X_train_np, 10000, verbose=True)\n",
        "som = MiniSom(x=12, y=12, input_len=6, sigma=5.0, learning_rate=0.3, random_seed=10,\n",
        "              neighborhood_function='mexican_hat',activation_distance=\"euclidean\")\n",
        "som.random_weights_init(X_train_np)\n",
        "som.train(X_train_np, 10000, verbose=True)\n",
        "som = MiniSom(x=12, y=12, input_len=6, sigma=5.0, learning_rate=0.3, random_seed=10,\n",
        "              neighborhood_function='bubble',activation_distance=\"euclidean\")\n",
        "som.random_weights_init(X_train_np)\n",
        "som.train(X_train_np, 10000, verbose=True)\n",
        "som = MiniSom(x=12, y=12, input_len=6, sigma=5.0, learning_rate=0.3, random_seed=10,\n",
        "              neighborhood_function='triangle',activation_distance=\"euclidean\")\n",
        "som.random_weights_init(X_train_np)\n",
        "som.train(X_train_np, 10000, verbose=True)"
      ],
      "metadata": {
        "colab": {
          "base_uri": "https://localhost:8080/"
        },
        "id": "mQtaxiohcAZx",
        "outputId": "c40243b3-47e1-4f69-9fbf-200c26d0e143"
      },
      "execution_count": null,
      "outputs": [
        {
          "output_type": "stream",
          "name": "stdout",
          "text": [
            " [ 10000 / 10000 ] 100% - 0:00:00 left \n",
            " quantization error: 0.6464329821255805\n",
            " [ 10000 / 10000 ] 100% - 0:00:00 left \n",
            " quantization error: 1.257424889420024\n",
            " [ 10000 / 10000 ] 100% - 0:00:00 left \n",
            " quantization error: 0.2729073896061384\n",
            " [ 10000 / 10000 ] 100% - 0:00:00 left \n",
            " quantization error: 0.1667719145867018\n"
          ]
        }
      ]
    },
    {
      "cell_type": "markdown",
      "source": [
        "Zauważam że najmniejszy błąd jest przy funkcji bubble, będę jej używał"
      ],
      "metadata": {
        "id": "Pig9SBO9cTPK"
      }
    },
    {
      "cell_type": "code",
      "source": [
        "som = MiniSom(x=12, y=12, input_len=6, sigma=1, learning_rate=0.3, random_seed=10,\n",
        "              neighborhood_function='bubble',activation_distance=\"euclidean\")\n",
        "\n",
        "som.random_weights_init(X_train_np)\n",
        "som.train(X_train_np, 30000, verbose=True)"
      ],
      "metadata": {
        "colab": {
          "base_uri": "https://localhost:8080/"
        },
        "id": "m61RpwT0cpQp",
        "outputId": "400738cc-33b4-4248-ccf5-45f3ee87b64d"
      },
      "execution_count": null,
      "outputs": [
        {
          "output_type": "stream",
          "name": "stdout",
          "text": [
            " [ 30000 / 30000 ] 100% - 0:00:00 left \n",
            " quantization error: 0.038809532622510315\n"
          ]
        }
      ]
    },
    {
      "cell_type": "markdown",
      "source": [
        "Sprawdzam precyzję"
      ],
      "metadata": {
        "id": "m76M6_0ocuX1"
      }
    },
    {
      "cell_type": "code",
      "source": [
        "def classify(som, data, Xtrain, Ytrain):\n",
        "    winmap = som.labels_map(Xtrain, Ytrain)\n",
        "    default_class = np.sum(list(winmap.values())).most_common()[0][0]\n",
        "    result = []\n",
        "    for d in data:\n",
        "        win_position = som.winner(d)\n",
        "        if win_position in winmap:\n",
        "            result.append(winmap[win_position].most_common()[0][0])\n",
        "        else:\n",
        "            result.append(default_class)\n",
        "    return result\n",
        "\n",
        "print(metrics.classification_report(Y_test_np, classify(som, X_test_np, X_train_np, Y_train_np)))"
      ],
      "metadata": {
        "colab": {
          "base_uri": "https://localhost:8080/"
        },
        "id": "V5m3mcQGcwW1",
        "outputId": "46667fad-dce6-4757-ddab-fa68ea303539"
      },
      "execution_count": null,
      "outputs": [
        {
          "output_type": "stream",
          "name": "stdout",
          "text": [
            "              precision    recall  f1-score   support\n",
            "\n",
            "           0       0.00      0.00      0.00         2\n",
            "           1       0.20      0.50      0.29         2\n",
            "           2       0.00      0.00      0.00         1\n",
            "           4       0.00      0.00      0.00         1\n",
            "           6       0.00      0.00      0.00         0\n",
            "           7       0.00      0.00      0.00         1\n",
            "           8       0.00      0.00      0.00         2\n",
            "          12       0.75      0.33      0.46         9\n",
            "          14       0.00      0.00      0.00         1\n",
            "          18       0.00      0.00      0.00         0\n",
            "          19       1.00      1.00      1.00         1\n",
            "          20       0.00      0.00      0.00         0\n",
            "          22       0.00      0.00      0.00         1\n",
            "          24       1.00      1.00      1.00         1\n",
            "          25       0.00      0.00      0.00         0\n",
            "\n",
            "    accuracy                           0.27        22\n",
            "   macro avg       0.20      0.19      0.18        22\n",
            "weighted avg       0.42      0.27      0.31        22\n",
            "\n"
          ]
        },
        {
          "output_type": "stream",
          "name": "stderr",
          "text": [
            "/usr/local/lib/python3.8/dist-packages/sklearn/metrics/_classification.py:1318: UndefinedMetricWarning: Precision and F-score are ill-defined and being set to 0.0 in labels with no predicted samples. Use `zero_division` parameter to control this behavior.\n",
            "  _warn_prf(average, modifier, msg_start, len(result))\n",
            "/usr/local/lib/python3.8/dist-packages/sklearn/metrics/_classification.py:1318: UndefinedMetricWarning: Recall and F-score are ill-defined and being set to 0.0 in labels with no true samples. Use `zero_division` parameter to control this behavior.\n",
            "  _warn_prf(average, modifier, msg_start, len(result))\n",
            "/usr/local/lib/python3.8/dist-packages/sklearn/metrics/_classification.py:1318: UndefinedMetricWarning: Precision and F-score are ill-defined and being set to 0.0 in labels with no predicted samples. Use `zero_division` parameter to control this behavior.\n",
            "  _warn_prf(average, modifier, msg_start, len(result))\n",
            "/usr/local/lib/python3.8/dist-packages/sklearn/metrics/_classification.py:1318: UndefinedMetricWarning: Recall and F-score are ill-defined and being set to 0.0 in labels with no true samples. Use `zero_division` parameter to control this behavior.\n",
            "  _warn_prf(average, modifier, msg_start, len(result))\n",
            "/usr/local/lib/python3.8/dist-packages/sklearn/metrics/_classification.py:1318: UndefinedMetricWarning: Precision and F-score are ill-defined and being set to 0.0 in labels with no predicted samples. Use `zero_division` parameter to control this behavior.\n",
            "  _warn_prf(average, modifier, msg_start, len(result))\n",
            "/usr/local/lib/python3.8/dist-packages/sklearn/metrics/_classification.py:1318: UndefinedMetricWarning: Recall and F-score are ill-defined and being set to 0.0 in labels with no true samples. Use `zero_division` parameter to control this behavior.\n",
            "  _warn_prf(average, modifier, msg_start, len(result))\n"
          ]
        }
      ]
    },
    {
      "cell_type": "markdown",
      "source": [
        "Prezycja jest bardzo niska, poprzez małą ilość rekordów danych oraz dużą ilość klas wyjściowych. Najlepsza jest przy sigmie równej 1, mniejsza wartość nie zmienia precyzji."
      ],
      "metadata": {
        "id": "vEwRZJ9jdm65"
      }
    },
    {
      "cell_type": "code",
      "source": [
        "w_x, w_y = zip(*[som.winner(d) for d in X_train_np])\n",
        "w_x = np.array(w_x)\n",
        "w_y = np.array(w_y)\n",
        "\n",
        "plt.figure(figsize=(6, 6))\n",
        "plt.pcolor(som.distance_map().T, cmap='bone_r', alpha=.2)\n",
        "plt.colorbar()\n",
        "\n",
        "for c in np.unique(Y_train_np):\n",
        "    idx_target = Y_train_np==c\n",
        "    plt.scatter(w_x[idx_target]+.5+(np.random.rand(np.sum(idx_target))-.5)*.8, w_y[idx_target]+.5+(np.random.rand(np.sum(idx_target))-.5)*.8, s=10)\n",
        "\n",
        "plt.legend(loc='upper right')\n",
        "plt.grid()\n",
        "plt.show()"
      ],
      "metadata": {
        "colab": {
          "base_uri": "https://localhost:8080/",
          "height": 396
        },
        "id": "RyPYoK5tdrby",
        "outputId": "44e9c2b7-4e2d-4635-f063-27f1e8e45646"
      },
      "execution_count": null,
      "outputs": [
        {
          "output_type": "stream",
          "name": "stderr",
          "text": [
            "WARNING:matplotlib.legend:No handles with labels found to put in legend.\n"
          ]
        },
        {
          "output_type": "display_data",
          "data": {
            "text/plain": [
              "<Figure size 432x432 with 2 Axes>"
            ],
            "image/png": "[encoded data removed]"
          },
          "metadata": {
            "needs_background": "light"
          }
        }
      ]
    },
    {
      "cell_type": "markdown",
      "source": [
        "#Podsumowanie"
      ],
      "metadata": {
        "id": "cPvNhv28dt9b"
      }
    },
    {
      "cell_type": "markdown",
      "source": [
        "Dane są bardzo wybrakowane, przez co ciężko się na nich pracuje. Nie ma znaczącej różnicy pomiędzy zastowanymi sieciami neuronowymi. Nie jest to problem przeznaczony do tego typu klasyfikacji danych."
      ],
      "metadata": {
        "id": "V-aWukyVdxVy"
      }
    }
  ]
}